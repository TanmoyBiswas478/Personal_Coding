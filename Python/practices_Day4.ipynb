{
 "cells": [
  {
   "cell_type": "markdown",
   "id": "a483b371-02b5-4152-806b-006f5680861a",
   "metadata": {},
   "source": [
    "Python Tuple"
   ]
  },
  {
   "cell_type": "code",
   "execution_count": 1,
   "id": "174fa234-48af-4df6-b2ae-37adae09883f",
   "metadata": {},
   "outputs": [
    {
     "data": {
      "text/plain": [
       "['orange', 'apple', 'banana', 'coconut']"
      ]
     },
     "execution_count": 1,
     "metadata": {},
     "output_type": "execute_result"
    }
   ],
   "source": [
    "fruits=[\"orange\",\"apple\",\"banana\",\"coconut\"]\n",
    "fruits"
   ]
  },
  {
   "cell_type": "markdown",
   "id": "d1e60272-32fc-47c1-b831-8c5692fcb690",
   "metadata": {},
   "source": [
    "Access Tuple Item"
   ]
  },
  {
   "cell_type": "code",
   "execution_count": 2,
   "id": "a8bdf1fb-ef3c-4d9d-b3ac-a7af4d8e009a",
   "metadata": {},
   "outputs": [
    {
     "data": {
      "text/plain": [
       "[1, 4, 9, 34, 56]"
      ]
     },
     "execution_count": 2,
     "metadata": {},
     "output_type": "execute_result"
    }
   ],
   "source": [
    "numbers=[1,4,9,34,56]\n",
    "numbers"
   ]
  },
  {
   "cell_type": "code",
   "execution_count": 3,
   "id": "c334279c-30ff-46d6-82d8-7cc812d54662",
   "metadata": {},
   "outputs": [
    {
     "data": {
      "text/plain": [
       "56"
      ]
     },
     "execution_count": 3,
     "metadata": {},
     "output_type": "execute_result"
    }
   ],
   "source": [
    "numbers[4]"
   ]
  },
  {
   "cell_type": "code",
   "execution_count": 4,
   "id": "855edc1b-eb42-4a9a-a86f-cfcb59900d7b",
   "metadata": {},
   "outputs": [
    {
     "ename": "IndexError",
     "evalue": "list index out of range",
     "output_type": "error",
     "traceback": [
      "\u001b[1;31m---------------------------------------------------------------------------\u001b[0m",
      "\u001b[1;31mIndexError\u001b[0m                                Traceback (most recent call last)",
      "Cell \u001b[1;32mIn[4], line 1\u001b[0m\n\u001b[1;32m----> 1\u001b[0m \u001b[43mnumbers\u001b[49m\u001b[43m[\u001b[49m\u001b[38;5;241;43m5\u001b[39;49m\u001b[43m]\u001b[49m\n",
      "\u001b[1;31mIndexError\u001b[0m: list index out of range"
     ]
    }
   ],
   "source": [
    "numbers[5]"
   ]
  },
  {
   "cell_type": "markdown",
   "id": "7ad619e7-d8d5-4c7a-bafa-19d0b4aa1ab0",
   "metadata": {},
   "source": [
    "Negative Indexing"
   ]
  },
  {
   "cell_type": "code",
   "execution_count": 5,
   "id": "691ab24d-8798-4a61-beaa-eca885a7b0e2",
   "metadata": {},
   "outputs": [
    {
     "data": {
      "text/plain": [
       "9"
      ]
     },
     "execution_count": 5,
     "metadata": {},
     "output_type": "execute_result"
    }
   ],
   "source": [
    "numbers=[1,4,9,34,56]\n",
    "numbers[-3]"
   ]
  },
  {
   "cell_type": "code",
   "execution_count": 8,
   "id": "6f7acdbd-759a-4f54-9b8c-c6c509dde37f",
   "metadata": {},
   "outputs": [
    {
     "name": "stdout",
     "output_type": "stream",
     "text": [
      "9\n",
      "56\n",
      "34\n"
     ]
    }
   ],
   "source": [
    "numbers=[1,4,9,34,56]\n",
    "print(numbers[-3])\n",
    "print(numbers[-1])\n",
    "print(numbers[3])"
   ]
  },
  {
   "cell_type": "markdown",
   "id": "797a06fa-676d-4eb9-a461-f4bba59dc5df",
   "metadata": {},
   "source": [
    "Range of Index"
   ]
  },
  {
   "cell_type": "code",
   "execution_count": 12,
   "id": "8de58b27-1943-4f07-b678-716cd34fbdda",
   "metadata": {},
   "outputs": [
    {
     "name": "stdout",
     "output_type": "stream",
     "text": [
      "[4, 9, 34]\n"
     ]
    }
   ],
   "source": [
    "numbers=[1,4,9,34,56]\n",
    "print(numbers[1:4])"
   ]
  },
  {
   "cell_type": "markdown",
   "id": "4d39526e-1794-4a3e-bc7a-813bb6093b98",
   "metadata": {},
   "source": [
    "Python - Update Tuples"
   ]
  },
  {
   "cell_type": "code",
   "execution_count": 27,
   "id": "bdb40470-edae-4864-a344-2fd5c3222b10",
   "metadata": {},
   "outputs": [
    {
     "name": "stdout",
     "output_type": "stream",
     "text": [
      "(1, 4, 43, 94, 87)\n"
     ]
    }
   ],
   "source": [
    "original_tuple = (1,4,9,34,56,94,87)\n",
    "modified_tuple = original_tuple[:2] + (43,) + original_tuple[5:]\n",
    "print(modified_tuple)"
   ]
  },
  {
   "cell_type": "markdown",
   "id": "7dd754cc-9f76-45f4-8b65-165837df0323",
   "metadata": {},
   "source": [
    "Python - Unpack Tuples"
   ]
  },
  {
   "cell_type": "code",
   "execution_count": 30,
   "id": "462f1554-4ffc-4c4b-8df7-86dd9e873402",
   "metadata": {},
   "outputs": [
    {
     "name": "stdout",
     "output_type": "stream",
     "text": [
      "1\n",
      "4\n",
      "9\n",
      "34\n"
     ]
    }
   ],
   "source": [
    "original_tuple = (1,4,9,34)\n",
    "a,b,c,d= original_tuple\n",
    "print(a)\n",
    "print(b)\n",
    "print(c)\n",
    "print(d)"
   ]
  },
  {
   "cell_type": "markdown",
   "id": "40ad055a-154c-4221-9421-44bd2eaec77d",
   "metadata": {},
   "source": [
    "Loop through tuple"
   ]
  },
  {
   "cell_type": "code",
   "execution_count": 33,
   "id": "9f026949-132a-4a74-9d7f-f4011ef225f2",
   "metadata": {},
   "outputs": [
    {
     "name": "stdout",
     "output_type": "stream",
     "text": [
      "1\n",
      "4\n",
      "9\n",
      "34\n"
     ]
    }
   ],
   "source": [
    "original_tuple = (1,4,9,34)\n",
    "for items in original_tuple:\n",
    " print(items)"
   ]
  },
  {
   "cell_type": "markdown",
   "id": "2ce2c425-e713-46bc-9823-43fc05a98f7e",
   "metadata": {},
   "source": [
    "Join Two Tuples"
   ]
  },
  {
   "cell_type": "code",
   "execution_count": 38,
   "id": "054ed137-1845-44b1-91c0-4bb8f2558c94",
   "metadata": {},
   "outputs": [
    {
     "data": {
      "text/plain": [
       "[(1, 4, 9, 34, 2, 5, 10, 35)]"
      ]
     },
     "execution_count": 38,
     "metadata": {},
     "output_type": "execute_result"
    }
   ],
   "source": [
    "tuple_1 = (1,4,9,34)\n",
    "tuple_2 = (2,5,10,35)\n",
    "tuple_3 = [tuple_1 + tuple_2]\n",
    "tuple_3"
   ]
  },
  {
   "cell_type": "markdown",
   "id": "28b8bd8a-1b45-4464-a74c-5c6e5804f536",
   "metadata": {},
   "source": [
    "Python - Tuple Methods"
   ]
  },
  {
   "cell_type": "code",
   "execution_count": 10,
   "id": "68298e31-a52b-4d5f-9ad3-5d23c2b2bed9",
   "metadata": {},
   "outputs": [
    {
     "name": "stdout",
     "output_type": "stream",
     "text": [
      "2\n"
     ]
    }
   ],
   "source": [
    "#1. count(value): #kon sonkha da koibar ase ida janlam.\n",
    "tuple_1 = (1, 4, 9, 34, 76, 4)\n",
    "tuple_2 = tuple_1.count(4)\n",
    "print(tuple_2)"
   ]
  },
  {
   "cell_type": "code",
   "execution_count": 11,
   "id": "83d908ac-15b5-4775-9539-86ac7c2f945f",
   "metadata": {},
   "outputs": [
    {
     "name": "stdout",
     "output_type": "stream",
     "text": [
      "4\n"
     ]
    }
   ],
   "source": [
    "#2. index(value): #kon sonkha da koto number position e ase ida janar liga.\n",
    "tuple_1 = (1, 4, 9, 34, 76, 4)\n",
    "tuple_2 = tuple_1.index(76)\n",
    "print(tuple_2)"
   ]
  },
  {
   "cell_type": "markdown",
   "id": "b01e0b42-7030-46b5-beeb-19b3e24c7430",
   "metadata": {},
   "source": [
    "Python Set"
   ]
  },
  {
   "cell_type": "code",
   "execution_count": 4,
   "id": "14c678f2-c580-4638-9ff8-b0936e568aa3",
   "metadata": {},
   "outputs": [
    {
     "name": "stdout",
     "output_type": "stream",
     "text": [
      "{1, 2, 3, 4, 5, 6}\n",
      "{40, 50, 60}\n"
     ]
    }
   ],
   "source": [
    "# curly brake dia set banaisi.\n",
    "my_set = {1, 2, 3, 4, 5, 6}\n",
    "# set() constructor dia set banaisi.\n",
    "another_set = set([40, 50, 60])\n",
    "print(my_set)\n",
    "print(another_set) "
   ]
  },
  {
   "cell_type": "code",
   "execution_count": 8,
   "id": "6dbc1acc-388e-4b77-97ec-32ca73f075e1",
   "metadata": {},
   "outputs": [
    {
     "data": {
      "text/plain": [
       "{1, 2, 3, 4}"
      ]
     },
     "execution_count": 8,
     "metadata": {},
     "output_type": "execute_result"
    }
   ],
   "source": [
    "set1={1, 1, 2, 2, 3, 3, 4, 4} # set er bhitre jetoi same number dei na kre print sudhu ekta oi hoibo\n",
    "set1"
   ]
  },
  {
   "cell_type": "markdown",
   "id": "462803f8-ef30-491b-8d23-99ff25eda4f2",
   "metadata": {},
   "source": [
    "Access Set Items"
   ]
  },
  {
   "cell_type": "code",
   "execution_count": 10,
   "id": "55a7badf-26f0-4bbb-8e53-96d4a1918613",
   "metadata": {},
   "outputs": [
    {
     "name": "stdout",
     "output_type": "stream",
     "text": [
      "1\n",
      "2\n",
      "3\n",
      "4\n",
      "5\n"
     ]
    }
   ],
   "source": [
    "my_set = {1, 1, 2, 2, 3, 4, 4, 5, 5} #sab set er eliment re ekloge suja bhabhe sajailam\n",
    "for item in my_set:\n",
    " print(item)"
   ]
  },
  {
   "cell_type": "markdown",
   "id": "a4234db0-aaeb-4305-898c-ebeb64ebd8fa",
   "metadata": {},
   "source": [
    "Add Set Items"
   ]
  },
  {
   "cell_type": "code",
   "execution_count": 12,
   "id": "39e22ff5-3d18-465c-8e08-f5dfdb44ddda",
   "metadata": {},
   "outputs": [
    {
     "name": "stdout",
     "output_type": "stream",
     "text": [
      "{1, 2, 3, 4}\n",
      "{1, 2, 3, 4, 5}\n"
     ]
    }
   ],
   "source": [
    "# 1. Using the add() method to add a single item:\n",
    "my_set = {1, 2, 3, 4}\n",
    "print(my_set)\n",
    "my_set.add(5)\n",
    "print(my_set)"
   ]
  },
  {
   "cell_type": "code",
   "execution_count": 16,
   "id": "337b8dd9-154a-495a-834c-2bb8cd4cbd0c",
   "metadata": {},
   "outputs": [
    {
     "name": "stdout",
     "output_type": "stream",
     "text": [
      "<class 'set'>\n",
      "<class 'list'>\n"
     ]
    }
   ],
   "source": [
    "#2. Using the update() method to add multiple items from another iterable:\n",
    "my_set = {1, 2, 3}\n",
    "print(type(my_set)) #type ta print korsi\n",
    "my_list = [4, 5, 6]\n",
    "print(type(my_list)) #type ta print korsi"
   ]
  },
  {
   "cell_type": "code",
   "execution_count": 17,
   "id": "6ce28c5e-b8ba-4c78-a5b7-c27325e38ab6",
   "metadata": {},
   "outputs": [
    {
     "name": "stdout",
     "output_type": "stream",
     "text": [
      "{1, 2, 3, 4, 5, 6}\n"
     ]
    }
   ],
   "source": [
    "my_set.update(my_list)\n",
    "print((my_set)) #value ta print korsi"
   ]
  },
  {
   "cell_type": "markdown",
   "id": "6309d13d-ee0a-434c-9e4f-0c5ac1c9b62c",
   "metadata": {},
   "source": [
    "Remove Set Item"
   ]
  },
  {
   "cell_type": "code",
   "execution_count": null,
   "id": "e36bd3eb-d9b3-4938-8db4-3351e03117f1",
   "metadata": {},
   "outputs": [],
   "source": [
    "#1. remove(): Removes the specified element from the set. Raises a KeyError if the element is not found in the set."
   ]
  },
  {
   "cell_type": "code",
   "execution_count": 20,
   "id": "d3c88d02-7ee8-4ca6-ad27-ca97a5e5218a",
   "metadata": {},
   "outputs": [
    {
     "name": "stdout",
     "output_type": "stream",
     "text": [
      "{1, 2, 3, 4, 6, 7}\n"
     ]
    }
   ],
   "source": [
    "my_set = {1, 2, 3, 4, 5, 6, 7}\n",
    "my_set.remove(5)\n",
    "print(my_set)"
   ]
  },
  {
   "cell_type": "code",
   "execution_count": null,
   "id": "1fad34c0-8530-471f-901c-08cab9d0bf0f",
   "metadata": {},
   "outputs": [],
   "source": [
    "#2. discard(): Removes the specified element from the set if it exists. If the element is not present in the set, discard() will not raise any error."
   ]
  },
  {
   "cell_type": "code",
   "execution_count": 23,
   "id": "00363fd7-73b9-436f-8f2c-44677d91e585",
   "metadata": {},
   "outputs": [
    {
     "name": "stdout",
     "output_type": "stream",
     "text": [
      "{1, 2, 3, 4, 5, 6}\n",
      "{1, 2, 4, 5, 6}\n",
      "{1, 2, 4, 6}\n"
     ]
    }
   ],
   "source": [
    "my_set = {1, 2, 3, 4, 5, 6}\n",
    "print(my_set)\n",
    "my_set.discard(3)\n",
    "print(my_set)\n",
    "my_set.discard(5)\n",
    "print(my_set)"
   ]
  },
  {
   "cell_type": "code",
   "execution_count": null,
   "id": "e08ec965-3383-438c-92c9-d7703caf5dfa",
   "metadata": {},
   "outputs": [],
   "source": [
    "#3. pop(): Removes and returns an arbitrary element from the set. As sets areunordered, there is no specific order for popping elements.\n",
    "#If the set is empty, pop()will raise a KeyError."
   ]
  },
  {
   "cell_type": "code",
   "execution_count": 24,
   "id": "d9001283-8cfa-4a3b-8929-f54db527496a",
   "metadata": {},
   "outputs": [
    {
     "name": "stdout",
     "output_type": "stream",
     "text": [
      "1\n",
      "{2, 3, 4, 5}\n"
     ]
    }
   ],
   "source": [
    "my_set = {1, 2, 3, 4, 5}\n",
    "popped_element = my_set.pop()\n",
    "print(popped_element) # Output: Randomly selected element, e.g., 1, 2, 3, or 4\n",
    "print(my_set) # Output: The set with the popped element removed"
   ]
  },
  {
   "cell_type": "code",
   "execution_count": null,
   "id": "67b7d8df-bd1a-4137-a50d-52d1d390f1b3",
   "metadata": {},
   "outputs": [],
   "source": [
    "#4. clear(): Removes all elements from the set, making it empty"
   ]
  },
  {
   "cell_type": "code",
   "execution_count": 25,
   "id": "022cb59c-2e6a-4b61-bbf6-957f487b6b14",
   "metadata": {},
   "outputs": [
    {
     "name": "stdout",
     "output_type": "stream",
     "text": [
      "set()\n"
     ]
    }
   ],
   "source": [
    "my_set = {1, 2, 3, 4}\n",
    "my_set.clear()\n",
    "print(my_set)"
   ]
  },
  {
   "cell_type": "markdown",
   "id": "6784fec2-fa3b-4649-9a42-1839408edc1d",
   "metadata": {},
   "source": [
    "Python Dictionaries"
   ]
  },
  {
   "cell_type": "code",
   "execution_count": null,
   "id": "ab65e968-be1b-4552-8a15-30c121457be4",
   "metadata": {},
   "outputs": [],
   "source": [
    "#1. Keys must be unique and immutable data types, such as strings, numbers, or tuples.\n",
    "#2. Values can be of any data type, including other dictionaries, lists, tuples, etc.\n",
    "#3. Dictionaries are enclosed in curly braces {}, and key-value pairs are separated by colons :."
   ]
  },
  {
   "cell_type": "code",
   "execution_count": 2,
   "id": "733131f1-fe7b-4c07-8b1d-37f709184465",
   "metadata": {},
   "outputs": [
    {
     "name": "stdout",
     "output_type": "stream",
     "text": [
      "{'name': 'Tantika', 'age': 0, 'city': 'Brahmcharir Desh'}\n",
      "{'country': 'Indian BONOBAS', 'occupation': 'Baiccha'}\n"
     ]
    }
   ],
   "source": [
    "# Creating a dictionary with key-value pairs\n",
    "my_dict = {\n",
    " \"name\": \"Tantika\",\n",
    " \"age\": 0,\n",
    " \"city\": \"Brahmcharir Desh\"\n",
    "}\n",
    "# Creating an empty dictionary and adding items later\n",
    "empty_dict = {}\n",
    "# Adding items to the dictionary\n",
    "empty_dict[\"country\"] = \"Indian BONOBAS\"\n",
    "empty_dict[\"occupation\"] = \"Baiccha\"\n",
    "print(my_dict)\n",
    "print(empty_dict)"
   ]
  },
  {
   "cell_type": "code",
   "execution_count": 22,
   "id": "1ea75ed9-1c50-4136-98af-bff1ecf0bf47",
   "metadata": {},
   "outputs": [
    {
     "name": "stdout",
     "output_type": "stream",
     "text": [
      "{'Food': 'Apple'}\n",
      "{'abu': 'Abantika'}\n"
     ]
    }
   ],
   "source": [
    "#practice korlm sudhu #alada arekta variable use koira add korsi\n",
    "my_dict = {\n",
    "    \"Food\" : \"Apple\",}\n",
    "empty_dict = {}\n",
    "empty_dict[\"abu\"]=\"Abantika\"\n",
    "print(my_dict)\n",
    "print(empty_dict)"
   ]
  },
  {
   "cell_type": "markdown",
   "id": "18243e01-1fdf-4093-bae7-eca1e60051b9",
   "metadata": {},
   "source": [
    "Access Dictionary Items"
   ]
  },
  {
   "cell_type": "code",
   "execution_count": 23,
   "id": "01d5a9aa-ce8b-4750-8398-1114f79fb557",
   "metadata": {},
   "outputs": [
    {
     "name": "stdout",
     "output_type": "stream",
     "text": [
      "{'name': 'tantika', 'age': 0, 'city': 'Agartala'}\n",
      "tantika\n",
      "0\n",
      "Agartala\n"
     ]
    }
   ],
   "source": [
    "#ami ja ja dictionary te save korsi idi save aseni check korar liga.\n",
    "my_dict =  {\n",
    "    \"name\" : \"tantika\",\n",
    "    \"age\" : 0,\n",
    "    \"city\" : \"Agartala\",}\n",
    "print(my_dict)\n",
    "name_value =  my_dict[\"name\"]\n",
    "age_value = my_dict[\"age\"]\n",
    "city_value = my_dict[\"city\"]\n",
    "print(name_value)\n",
    "print(age_value)\n",
    "print(city_value)"
   ]
  },
  {
   "cell_type": "markdown",
   "id": "f679fb4f-b7e0-459b-be98-9525858cfa6d",
   "metadata": {},
   "source": [
    "GET Method"
   ]
  },
  {
   "cell_type": "markdown",
   "id": "54c8a290-871f-475e-a440-a91d0712025e",
   "metadata": {},
   "source": [
    "The syntax of the get() method is as follows:\r\n",
    "dictionary.get(key, default_value)\r\n",
    "1. key: The key for which you want to retrieve the value.\r\n",
    "2. default_value (optional): The default value to be returned if the key is not found. If\r\n",
    "this argument is not provided, the method will return None by default."
   ]
  },
  {
   "cell_type": "code",
   "execution_count": 11,
   "id": "49adbd76-4736-48ba-bec3-e9cfb03e858b",
   "metadata": {},
   "outputs": [
    {
     "name": "stdout",
     "output_type": "stream",
     "text": [
      "John\n",
      "30\n",
      "None\n",
      "New York\n",
      "Not specified\n"
     ]
    }
   ],
   "source": [
    "#ida bujhoner ase bujjhina\n",
    "my_dict = {\n",
    " \"name\": \"John\",\n",
    " \"age\": 30,\n",
    " \"city\": \"New York\"\n",
    "}\n",
    "# Using get() to retrieve values by key\n",
    "name_value = my_dict.get(\"name\")\n",
    "age_value = my_dict.get(\"age\")\n",
    "country_value = my_dict.get(\"country\") # Key \"country\" does not exist\n",
    "print(name_value) # Output: \"John\"\n",
    "print(age_value) # Output: 30\n",
    "print(country_value) # Output: None (since key \"country\" does not exist)\n",
    "#none aibo output krn ida ager thika define nai r ami poreo define korsina. idar kno value oi nai.\n",
    "# Using get() with a default value\n",
    "city_value = my_dict.get(\"city\", \"Unknown\")\n",
    "#jodi eikhane 'city' na dia onno je kno nam ditam uporer variable di bad dia toile unknown show korto kintu\n",
    "#city already define illiga nijer thika input loia kai\n",
    "print(city_value)\n",
    "occupation_value = my_dict.get(\"occupation\", \"Not specified\")\n",
    "#not satisfied krn defined na age to ei krn e ekhn define korsi ja korsi ta oi lekha aise.\n",
    "print(occupation_value)"
   ]
  },
  {
   "cell_type": "markdown",
   "id": "25c2137d-2659-49f2-af5b-73fd54ef6d48",
   "metadata": {},
   "source": [
    "*Change Dictionary Items*"
   ]
  },
  {
   "cell_type": "code",
   "execution_count": 21,
   "id": "57b02606-964e-458e-86b5-efce2c79b39d",
   "metadata": {},
   "outputs": [
    {
     "name": "stdout",
     "output_type": "stream",
     "text": [
      "{'Food': 'Banana', 'abu': 'Abantika'}\n"
     ]
    }
   ],
   "source": [
    "my_dict = {\n",
    "    \"Food\" : \"Apple\",}\n",
    "my_dict[\"Food\"]=\"Banana\"\n",
    "my_dict[\"abu\"]=\"Abantika\"\n",
    "print(my_dict)"
   ]
  },
  {
   "cell_type": "markdown",
   "id": "30f47c72-bb86-4e47-a75a-94a9992d0501",
   "metadata": {},
   "source": [
    "*Update Dictionary use korleo same oi hoi*"
   ]
  },
  {
   "cell_type": "code",
   "execution_count": 25,
   "id": "664e69ab-1186-4478-9acd-e5771024ceaf",
   "metadata": {},
   "outputs": [
    {
     "name": "stdout",
     "output_type": "stream",
     "text": [
      "{'Food': 'Banana', 'abu': 'Abantika'}\n"
     ]
    }
   ],
   "source": [
    "my_dict = {\n",
    "    \"Food\" : \"Apple\",}\n",
    "my_dict[\"Food\"]=\"Banana\"\n",
    "my_dict[\"abu\"]=\"Abantika\"\n",
    "print(my_dict)"
   ]
  },
  {
   "cell_type": "markdown",
   "id": "699b0613-eec9-43ec-ac9e-4d76ce8a0652",
   "metadata": {},
   "source": [
    "Remove Dictionary Items"
   ]
  },
  {
   "cell_type": "code",
   "execution_count": 40,
   "id": "4bff894f-5f27-4f3e-9248-dc92e65a3b76",
   "metadata": {},
   "outputs": [
    {
     "name": "stdout",
     "output_type": "stream",
     "text": [
      "{'name': 'tantika', 'age': 0, 'city': 'Agartala'}\n",
      "{'name': 'tantika', 'age': 0}\n"
     ]
    }
   ],
   "source": [
    "#1. Using the del statement: You can use the del statement to remove a specific keyvalue pair from the dictionary by specifying the key to be deleted.\n",
    "my_dict =  {\n",
    "    \"name\" : \"tantika\",\n",
    "    \"age\" : 0,\n",
    "    \"city\" : \"Agartala\",}\n",
    "print(my_dict)\n",
    "del my_dict[\"city\"] #idar bhitre amr koia deon lage kondare bad dibo\n",
    "print(my_dict)"
   ]
  },
  {
   "cell_type": "code",
   "execution_count": 39,
   "id": "6207a776-12cb-4fb5-9e74-bce48ac023e1",
   "metadata": {},
   "outputs": [
    {
     "name": "stdout",
     "output_type": "stream",
     "text": [
      "{'name': 'tantika', 'age': 0, 'city': 'Agartala'}\n",
      "{'name': 'tantika', 'age': 0}\n"
     ]
    }
   ],
   "source": [
    "#2. Using the pop() method: The pop() method allows you to remove an item from the\n",
    "# dictionary based on its key and returns the corresponding value. If the key is not found,\n",
    "# you can provide a default value to be returned.\n",
    "my_dict =  {\n",
    "    \"name\" : \"tantika\",\n",
    "    \"age\" : 0,\n",
    "    \"city\" : \"Agartala\",}\n",
    "print(my_dict)\n",
    "my_dict.pop(\"city\") #idar bhitre 0 amr koia deon lage kondare bad dibo\n",
    "print(my_dict)"
   ]
  },
  {
   "cell_type": "code",
   "execution_count": 38,
   "id": "232a44e5-7c53-47ef-9635-422943a20f88",
   "metadata": {},
   "outputs": [
    {
     "name": "stdout",
     "output_type": "stream",
     "text": [
      "{'name': 'tantika', 'age': 0, 'city': 'Agartala'}\n",
      "{'name': 'tantika', 'age': 0}\n"
     ]
    }
   ],
   "source": [
    "#3. Using the popitem() method: The popitem() method removes and returns an\n",
    "# arbitrary key-value pair from the dictionary. Since dictionaries are unordered, the\n",
    "# item removed might not be the last item added.\n",
    "# This method is useful when you want to remove an element from the dictionary without specifying a specific key.\n",
    "my_dict =  {\n",
    "    \"name\" : \"tantika\",\n",
    "    \"age\" : 0,\n",
    "    \"city\" : \"Agartala\",}\n",
    "print(my_dict)\n",
    "my_dict.popitem() #idar bhitre nijer thika oi last input koroinna dict ta bad dia dibo\n",
    "print(my_dict)"
   ]
  },
  {
   "cell_type": "code",
   "execution_count": 42,
   "id": "1756d784-91bc-473e-9975-4eac344e716b",
   "metadata": {},
   "outputs": [
    {
     "name": "stdout",
     "output_type": "stream",
     "text": [
      "{'name': 'tantika', 'age': 0, 'city': 'Agartala'}\n",
      "{}\n"
     ]
    }
   ],
   "source": [
    "#4. Using the clear() method: The clear() method removes all items from the dictionary, making it empty.\n",
    "my_dict =  {\n",
    "    \"name\" : \"tantika\",\n",
    "    \"age\" : 0,\n",
    "    \"city\" : \"Agartala\",}\n",
    "print(my_dict)\n",
    "my_dict.clear() #idat sab bad dia laibo\n",
    "print(my_dict)"
   ]
  },
  {
   "cell_type": "markdown",
   "id": "d08ce967-22a2-4a3e-a55d-5129179208b3",
   "metadata": {},
   "source": [
    "Copy Dictionaries"
   ]
  },
  {
   "cell_type": "code",
   "execution_count": 5,
   "id": "f99be4ba-0f64-4373-b366-c333df56bf7e",
   "metadata": {},
   "outputs": [
    {
     "name": "stdout",
     "output_type": "stream",
     "text": [
      "{'name': 'Tantika', 'age': 10, 'city': 'New York'}\n",
      "{'name': 'Tantika', 'age': '0', 'city': 'Agartala'}\n"
     ]
    }
   ],
   "source": [
    "#1. Using the copy() method:\n",
    "original_dict = {\n",
    " \"name\": \"Tantika\",\n",
    " \"age\": 10,\n",
    " \"city\": \"New York\"\n",
    "}\n",
    "# notun ekta variable dia copy() use koira dekhtasi porer variable e copy hoi ki na.\n",
    "copied_dict = original_dict.copy()\n",
    "# Modifying the copied dictionary\n",
    "copied_dict[\"city\"]=\"Agartala\" #ei duita value copy dia pore change korsi.\n",
    "copied_dict[\"age\"]=\"0\"\n",
    "print(original_dict)\n",
    "print(copied_dict)"
   ]
  },
  {
   "cell_type": "code",
   "execution_count": 7,
   "id": "808d6ca8-d789-4d94-b2a5-2b82e5085d44",
   "metadata": {},
   "outputs": [
    {
     "name": "stdout",
     "output_type": "stream",
     "text": [
      "{'name': 'Tantika', 'age': 10, 'city': 'New York'}\n",
      "{'name': 'Tantika', 'age': 0, 'city': 'New York'}\n"
     ]
    }
   ],
   "source": [
    "#2. Using the dict() constructor:\n",
    "original_dict = {\n",
    " \"name\": \"Tantika\",\n",
    " \"age\": 10,\n",
    " \"city\": \"New York\"\n",
    "}\n",
    "copied_dict = dict(original_dict)\n",
    "copied_dict[\"age\"]= 0\n",
    "print(original_dict)\n",
    "print(copied_dict)"
   ]
  },
  {
   "cell_type": "markdown",
   "id": "59d33e48-6f10-46a4-9978-aac25ffa2e05",
   "metadata": {},
   "source": [
    "Nested Dictionaries"
   ]
  },
  {
   "cell_type": "code",
   "execution_count": 12,
   "id": "faea4445-9497-436c-8315-8abd07fc9091",
   "metadata": {},
   "outputs": [
    {
     "name": "stdout",
     "output_type": "stream",
     "text": [
      "John\n",
      "New York\n",
      "10001\n"
     ]
    }
   ],
   "source": [
    "# Creating a nested dictionary\n",
    "person = {\n",
    " \"name\": \"John\",\n",
    " \"age\": 30,\n",
    " \"address\": {\n",
    " \"city\": \"New York\",\n",
    " \"zipcode\": \"10001\"\n",
    " }\n",
    "}\n",
    "# Accessing values in the nested dictionary\n",
    "print(person[\"name\"])\n",
    "print(person[\"address\"][\"city\"])\n",
    "print(person[\"address\"][\"zipcode\"])"
   ]
  },
  {
   "cell_type": "markdown",
   "id": "68fe791e-1ad7-4770-adf1-86dfd11a9383",
   "metadata": {},
   "source": [
    "                                                                   ASSIGNMENT - 2"
   ]
  },
  {
   "cell_type": "markdown",
   "id": "d59337dc-1cca-4be8-8923-2419505665e7",
   "metadata": {},
   "source": [
    "1. Program to check if a list is a palindrome (reads the same backward as forward):"
   ]
  },
  {
   "cell_type": "code",
   "execution_count": 5,
   "id": "0b9dcbbf-4125-4783-afec-8a3452808c58",
   "metadata": {},
   "outputs": [
    {
     "name": "stdin",
     "output_type": "stream",
     "text": [
      "enter a string :  apple orange orange\n"
     ]
    },
    {
     "name": "stdout",
     "output_type": "stream",
     "text": [
      "The Given List Is Not Palindrome\n",
      "['orange', 'orange', 'apple']\n"
     ]
    }
   ],
   "source": [
    "input_string=input(\"enter a string : \")\n",
    "my_list = input_string.split()\n",
    "new_list = my_list[::-1]\n",
    "if (new_list == my_list):\n",
    " print(\"The Given List Is A Palindrome\")\n",
    "else:\n",
    " print(\"The Given List Is Not Palindrome\")\n",
    "print(new_list)"
   ]
  },
  {
   "cell_type": "code",
   "execution_count": null,
   "id": "7cc88ca6-d16b-4a29-b176-810065e45f26",
   "metadata": {},
   "outputs": [],
   "source": []
  }
 ],
 "metadata": {
  "kernelspec": {
   "display_name": "Python 3 (ipykernel)",
   "language": "python",
   "name": "python3"
  },
  "language_info": {
   "codemirror_mode": {
    "name": "ipython",
    "version": 3
   },
   "file_extension": ".py",
   "mimetype": "text/x-python",
   "name": "python",
   "nbconvert_exporter": "python",
   "pygments_lexer": "ipython3",
   "version": "3.11.4"
  }
 },
 "nbformat": 4,
 "nbformat_minor": 5
}
