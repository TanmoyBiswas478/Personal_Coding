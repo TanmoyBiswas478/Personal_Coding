{
 "cells": [
  {
   "cell_type": "code",
   "execution_count": 1,
   "id": "8659265b-9d61-4d89-95aa-afd820ad9922",
   "metadata": {},
   "outputs": [
    {
     "name": "stdout",
     "output_type": "stream",
     "text": [
      "Enter your name Tanmoy Biswas\n",
      "Enter your age 21\n"
     ]
    },
    {
     "name": "stdout",
     "output_type": "stream",
     "text": [
      "Hello,  Tanmoy Biswas\n",
      "You are 21 years old\n"
     ]
    }
   ],
   "source": [
    "name = input(\"Enter your name\") #class str means string.\n",
    "age = int(input(\"Enter your age\")) #but when we use int it means it takes and return only integers value.\n",
    "print(\"Hello, \",name) #1stly name re print korsi jeda ekta #str.\n",
    "print(\"You are\",age,\"years old\") #2ndly age re print korsi jeda ekta #interger."
   ]
  },
  {
   "cell_type": "code",
   "execution_count": 2,
   "id": "45e722a5-5bcb-4f1f-a10b-b726aa7073cc",
   "metadata": {},
   "outputs": [
    {
     "name": "stdout",
     "output_type": "stream",
     "text": [
      "Enter a year 2023\n"
     ]
    },
    {
     "name": "stdout",
     "output_type": "stream",
     "text": [
      "<class 'int'>\n"
     ]
    }
   ],
   "source": [
    "year = int(input(\"Enter a year\")) #type ta check kortasi year ta int na ki str\n",
    "print(type(year))"
   ]
  },
  {
   "cell_type": "code",
   "execution_count": 3,
   "id": "780b0fa7-ca8a-47b4-a941-2acd8155ff0b",
   "metadata": {},
   "outputs": [
    {
     "name": "stdout",
     "output_type": "stream",
     "text": [
      "52\n",
      "48\n",
      "100\n",
      "25.0\n"
     ]
    }
   ],
   "source": [
    "x = 50         # check kortasi direct input\n",
    "y = 2          # check kortasi integer value er liga\n",
    "print(x+y)\n",
    "print(x-y)\n",
    "print(x*y)\n",
    "print(x/y)"
   ]
  },
  {
   "cell_type": "code",
   "execution_count": 4,
   "id": "5bc40ae1-63cc-484c-b7f9-aed30fa26067",
   "metadata": {},
   "outputs": [
    {
     "name": "stdout",
     "output_type": "stream",
     "text": [
      "Enter a number :  25\n",
      "Enter a number :  4\n"
     ]
    },
    {
     "name": "stdout",
     "output_type": "stream",
     "text": [
      "29\n",
      "21\n",
      "100\n",
      "6.25\n"
     ]
    }
   ],
   "source": [
    "x = int(input(\"Enter a number : \")) # check kortasi user input\n",
    "y = int(input(\"Enter a number : \")) # check kortasi integer value er liga\n",
    "print(x+y)\n",
    "print(x-y)\n",
    "print(x*y)\n",
    "print(x/y)"
   ]
  },
  {
   "cell_type": "code",
   "execution_count": 5,
   "id": "3c0bf3e5-296d-4d94-9f71-6e7a86c021be",
   "metadata": {},
   "outputs": [
    {
     "name": "stdout",
     "output_type": "stream",
     "text": [
      "22.1\n",
      "18.1\n",
      "40.2\n",
      "10.05\n"
     ]
    }
   ],
   "source": [
    "x = 20.10 # check kortasi direct input\n",
    "y = 2 # check kortasi float value er liga\n",
    "print(x+y)\n",
    "print(x-y)\n",
    "print(x*y)\n",
    "print(x/y)"
   ]
  },
  {
   "cell_type": "code",
   "execution_count": 6,
   "id": "ffec7260-3826-43ef-bbaa-bfea2ed8ff41",
   "metadata": {},
   "outputs": [
    {
     "name": "stdout",
     "output_type": "stream",
     "text": [
      "Enter a number :  25.0\n",
      "Enter a number :  4.0\n"
     ]
    },
    {
     "name": "stdout",
     "output_type": "stream",
     "text": [
      "29.0\n",
      "21.0\n",
      "100.0\n",
      "6.25\n"
     ]
    }
   ],
   "source": [
    "x = float(input(\"Enter a number : \")) # check kortasi user input\n",
    "y = float(input(\"Enter a number : \")) # check kortasi float value er liga\n",
    "print(x+y)\n",
    "print(x-y)\n",
    "print(x*y)\n",
    "print(x/y)"
   ]
  },
  {
   "cell_type": "code",
   "execution_count": 7,
   "id": "6ac697e9-a24f-4fbf-be60-c5b415c69174",
   "metadata": {},
   "outputs": [
    {
     "name": "stdout",
     "output_type": "stream",
     "text": [
      "(3+2j)\n",
      "(5+1j)\n"
     ]
    }
   ],
   "source": [
    "c1=2+3j #complex number direct input\n",
    "c2=1-1j #complex number direct input\n",
    "print(c1+c2)\n",
    "print(c1*c2)"
   ]
  },
  {
   "cell_type": "code",
   "execution_count": 9,
   "id": "d667dcc9-c04a-4e7c-9caf-949e89d1cde7",
   "metadata": {},
   "outputs": [
    {
     "name": "stdout",
     "output_type": "stream",
     "text": [
      "Enter a number :  2\n",
      "Enter another number :  4\n"
     ]
    },
    {
     "name": "stdout",
     "output_type": "stream",
     "text": [
      "(6+0j)\n",
      "(8+0j)\n"
     ]
    }
   ],
   "source": [
    "c1=complex(input(\"Enter a number : \")) #complex number user input\n",
    "c2=complex(input(\"Enter another number : \")) #complex number user input\n",
    "print(c1+c2)\n",
    "print(c1*c2)"
   ]
  },
  {
   "cell_type": "code",
   "execution_count": 10,
   "id": "69f07a33-6b5e-4997-90f5-2b9bf567956a",
   "metadata": {},
   "outputs": [
    {
     "data": {
      "text/plain": [
       "6"
      ]
     },
     "execution_count": 10,
     "metadata": {},
     "output_type": "execute_result"
    }
   ],
   "source": [
    "x=int(6.32)  #int(): Used to convert a value to an integer type.\n",
    "x"
   ]
  },
  {
   "cell_type": "code",
   "execution_count": 11,
   "id": "b9f0e6e6-a0eb-48b9-aa39-319f24238be1",
   "metadata": {},
   "outputs": [
    {
     "data": {
      "text/plain": [
       "8.0"
      ]
     },
     "execution_count": 11,
     "metadata": {},
     "output_type": "execute_result"
    }
   ],
   "source": [
    "x=float(8)  #float(): Used to convert a value to a floating-point type.\n",
    "x"
   ]
  },
  {
   "cell_type": "code",
   "execution_count": 12,
   "id": "de91982f-5fd9-4785-8e35-d89f5c3be516",
   "metadata": {},
   "outputs": [
    {
     "name": "stdout",
     "output_type": "stream",
     "text": [
      "<class 'str'>\n"
     ]
    },
    {
     "data": {
      "text/plain": [
       "'4.9'"
      ]
     },
     "execution_count": 12,
     "metadata": {},
     "output_type": "execute_result"
    }
   ],
   "source": [
    "x=str(4.90)  #str(): Used to convert a value to a string type.\n",
    "print(type(x))\n",
    "x"
   ]
  },
  {
   "cell_type": "code",
   "execution_count": 13,
   "id": "d05acdcc-4fa9-443d-b098-dba806623a78",
   "metadata": {},
   "outputs": [
    {
     "name": "stdout",
     "output_type": "stream",
     "text": [
      "<class 'bool'>\n"
     ]
    },
    {
     "data": {
      "text/plain": [
       "True"
      ]
     },
     "execution_count": 13,
     "metadata": {},
     "output_type": "execute_result"
    }
   ],
   "source": [
    "x = bool(4.0) #bool(): Used to convert a value to a boolean type.\n",
    "print(type(x)) #bool true hoibo jakhan 0 er thika boro hoibo\n",
    "x"
   ]
  },
  {
   "cell_type": "code",
   "execution_count": 14,
   "id": "20ae936a-0752-46ea-96c9-b7a8c4189d55",
   "metadata": {},
   "outputs": [
    {
     "name": "stdout",
     "output_type": "stream",
     "text": [
      "<class 'bool'>\n"
     ]
    },
    {
     "data": {
      "text/plain": [
       "True"
      ]
     },
     "execution_count": 14,
     "metadata": {},
     "output_type": "execute_result"
    }
   ],
   "source": [
    "x = bool(-4) #bool(): Used to convert a value to a boolean type.\n",
    "print(type(x)) #bool true hoibo jakhan 0 er thika choto hoibo\n",
    "x"
   ]
  },
  {
   "cell_type": "code",
   "execution_count": 15,
   "id": "60fc0a05-6ada-46fe-bca5-e7c1977e7a4a",
   "metadata": {},
   "outputs": [
    {
     "name": "stdout",
     "output_type": "stream",
     "text": [
      "<class 'bool'>\n"
     ]
    },
    {
     "data": {
      "text/plain": [
       "False"
      ]
     },
     "execution_count": 15,
     "metadata": {},
     "output_type": "execute_result"
    }
   ],
   "source": [
    "x = bool(0) #bool(): Used to convert a value to a boolean type.\n",
    "print(type(x)) #bool false hoibo jakhan 0 er soman ba equal hoibo\n",
    "x"
   ]
  },
  {
   "cell_type": "code",
   "execution_count": 16,
   "id": "914bd979-4617-423c-8d17-e3ceec609f26",
   "metadata": {},
   "outputs": [
    {
     "data": {
      "text/plain": [
       "'Tanmoy Biswas'"
      ]
     },
     "execution_count": 16,
     "metadata": {},
     "output_type": "execute_result"
    }
   ],
   "source": [
    "Jekono_string = \"Tanmoy Biswas\" #x ba je kno variable er jaigai eikhane Jekono_string lekhsi\n",
    "substring = Jekono_string[0:13] #0 er jigai blank rakhle system automatically idare 0 hisab korbo.\n",
    "#jodi amra je kno nam input dei toile :symbol e dekhte lagbo koitthika suru hoise koi sesh hoise.\n",
    "#jmn eikhane amr nam e letter ase 6 ta age er pore space 1 ta er pore abr 6 ta letter.\n",
    "#kintu jehetu computer 0 r 1 er basis e chole to 0 thika start korsi to amr nam er 1st letter print hoise.\n",
    "#abr same bhabhe amra total 12 letter ase jehetu 0 thika start koira 12 dile nam er last word da print hoitona.\n",
    "#krn space ta ei 12 tar moddhey print hoitona.ei krn e amra 13 lekhsi.\n",
    "substring"
   ]
  },
  {
   "cell_type": "code",
   "execution_count": 17,
   "id": "66330b10-60ce-4748-87f1-774abd3cf4f3",
   "metadata": {},
   "outputs": [
    {
     "data": {
      "text/plain": [
       "'y Bis'"
      ]
     },
     "execution_count": 17,
     "metadata": {},
     "output_type": "execute_result"
    }
   ],
   "source": [
    "#Ager ida 0 thika suru koira 13 obdi nisi deikkha sabda print hoise cholo amra ebr dekhi je onno number dile ki hoi.\n",
    "Jekono_string = \"Tanmoy Biswas\" #x ba je kno variable er jaigai eikhane Jekono_string lekhsi\n",
    "substring = Jekono_string[5:10]\n",
    "substring #dekhlam je 6 number letter thika suru hoise 10 obdi gese."
   ]
  },
  {
   "cell_type": "code",
   "execution_count": 18,
   "id": "c4cb43f8-53d3-42de-9f43-91604ee3af06",
   "metadata": {},
   "outputs": [
    {
     "data": {
      "text/plain": [
       "'as'"
      ]
     },
     "execution_count": 18,
     "metadata": {},
     "output_type": "execute_result"
    }
   ],
   "source": [
    "#ebr check kori ratio er moddhey 1st er tare number dia 2nd da khali raikkha ki hoi.\n",
    "Jekono_string = \"Tanmoy Biswas\" #x ba je kno variable er jaigai eikhane Jekono_string lekhsi\n",
    "substring = Jekono_string[11:]\n",
    "substring #jeto input dimu er porer letter tar thika last je letter ase iddur obdi jaibo include space."
   ]
  },
  {
   "cell_type": "code",
   "execution_count": 19,
   "id": "42b8087d-725c-419e-bc17-c57eb0eef85e",
   "metadata": {},
   "outputs": [
    {
     "name": "stdout",
     "output_type": "stream",
     "text": [
      "Tno iws\n"
     ]
    }
   ],
   "source": [
    "Jekono_string = \"Tanmoy Biswas\"\n",
    "substring = Jekono_string[::2] # proti 2 number er middle er number re muiccha laibo.\n",
    "print(substring) "
   ]
  },
  {
   "cell_type": "code",
   "execution_count": 20,
   "id": "29914f16-8c67-4ff1-b780-eb72a254c87c",
   "metadata": {},
   "outputs": [
    {
     "name": "stdout",
     "output_type": "stream",
     "text": [
      "Ta\n"
     ]
    }
   ],
   "source": [
    "Jekono_string = \"Tanmoy Biswas\"\n",
    "substring = Jekono_string[:2:] # ami joto obdi print koramu toto obdi print hoibo.\n",
    "print(substring) "
   ]
  },
  {
   "cell_type": "code",
   "execution_count": 21,
   "id": "c784c919-0c7c-488f-8091-850b024fbb15",
   "metadata": {},
   "outputs": [
    {
     "name": "stdout",
     "output_type": "stream",
     "text": [
      "swas\n"
     ]
    }
   ],
   "source": [
    "Jekono_string = \"Tanmoy Biswas\"\n",
    "substring = Jekono_string[-4::] # (-) ratio er age use korle last er dik thika 0 na 1 thika start koira jeto number dimu eto obdi ultaia aibo.\n",
    "print(substring)"
   ]
  },
  {
   "cell_type": "code",
   "execution_count": 22,
   "id": "bd69ec8e-400f-4585-9202-51e4081fac08",
   "metadata": {},
   "outputs": [
    {
     "name": "stdout",
     "output_type": "stream",
     "text": [
      "sioT\n"
     ]
    }
   ],
   "source": [
    "Jekono_string = \"Tanmoy Biswas\"\n",
    "substring = Jekono_string[::-4] \n",
    "#jodi last (-) ratio er last e use kori taile ekta letter leikkha\n",
    "#prattek 3 da word muiccha laibo er pore abr lekhbo kichu.\n",
    "print(substring)"
   ]
  },
  {
   "cell_type": "code",
   "execution_count": 23,
   "id": "e92e0f82-6c6e-4e58-941d-116bb0205258",
   "metadata": {},
   "outputs": [
    {
     "data": {
      "text/plain": [
       "' I am Tanmoy Biswas '"
      ]
     },
     "execution_count": 23,
     "metadata": {},
     "output_type": "execute_result"
    }
   ],
   "source": [
    "#Check korlam 2 ta string operation add kora jai ki na.\n",
    "String1 = \" I am \"\n",
    "String2 = \"Tanmoy Biswas \"\n",
    "Actual_String=String1+String2\n",
    "Actual_String"
   ]
  },
  {
   "cell_type": "code",
   "execution_count": 24,
   "id": "81bd8aec-2dab-4bd5-89a4-c2e006d01824",
   "metadata": {},
   "outputs": [
    {
     "data": {
      "text/plain": [
       "' I am Tanmoy Biswas '"
      ]
     },
     "execution_count": 24,
     "metadata": {},
     "output_type": "execute_result"
    }
   ],
   "source": [
    "#ebr same program da string e space alada laga check koira dekhi.\n",
    "String1 = \" I am\"\n",
    "String2 = \"Tanmoy Biswas \"\n",
    "Actual_String=String1+\" \"+String2\n",
    "Actual_String"
   ]
  },
  {
   "cell_type": "code",
   "execution_count": 25,
   "id": "135732de-abb0-44bd-abef-38222a3885ac",
   "metadata": {},
   "outputs": [
    {
     "name": "stdout",
     "output_type": "stream",
     "text": [
      " ABANTIKA BHOWMIK \n"
     ]
    },
    {
     "data": {
      "text/plain": [
       "' abantika bhowmik '"
      ]
     },
     "execution_count": 25,
     "metadata": {},
     "output_type": "execute_result"
    }
   ],
   "source": [
    "#upper(): Converts all characters in the string to uppercase\n",
    "string=\" abantika bhowmik \"\n",
    "print(string.upper())\n",
    "string"
   ]
  },
  {
   "cell_type": "code",
   "execution_count": 26,
   "id": "44e61519-c0c8-47ac-a664-3d34f34fe62d",
   "metadata": {},
   "outputs": [
    {
     "name": "stdout",
     "output_type": "stream",
     "text": [
      " abantika bhowmik \n"
     ]
    },
    {
     "data": {
      "text/plain": [
       "' ABANTIKA BHOWMIK '"
      ]
     },
     "execution_count": 26,
     "metadata": {},
     "output_type": "execute_result"
    }
   ],
   "source": [
    "#lower(): Converts all characters in the string to lowercase\n",
    "string=\" ABANTIKA BHOWMIK \"\n",
    "print(string.lower())\n",
    "string"
   ]
  },
  {
   "cell_type": "code",
   "execution_count": 27,
   "id": "73a9bc95-1e12-4243-b334-96dd6efaec61",
   "metadata": {},
   "outputs": [
    {
     "name": "stdout",
     "output_type": "stream",
     "text": [
      "abantika bhowmik\n"
     ]
    },
    {
     "data": {
      "text/plain": [
       "' abantika bhowmik '"
      ]
     },
     "execution_count": 27,
     "metadata": {},
     "output_type": "execute_result"
    }
   ],
   "source": [
    "#strip(): Removes leading and trailing whitespace from the string.\n",
    "string=\" abantika bhowmik \"\n",
    "print(string.strip())\n",
    "string"
   ]
  },
  {
   "cell_type": "code",
   "execution_count": 28,
   "id": "ab76086b-edc8-4e9f-aaee-cf1fbd520dd2",
   "metadata": {},
   "outputs": [
    {
     "name": "stdout",
     "output_type": "stream",
     "text": [
      " abantika biswas \n"
     ]
    },
    {
     "data": {
      "text/plain": [
       "' abantika bhowmik '"
      ]
     },
     "execution_count": 28,
     "metadata": {},
     "output_type": "execute_result"
    }
   ],
   "source": [
    "#replace(): Replaces occurrences of a substring with another substring.\n",
    "string=\" abantika bhowmik \"\n",
    "print(string.replace(\"bhowmik\",\"biswas\"))\n",
    "string"
   ]
  },
  {
   "cell_type": "code",
   "execution_count": 29,
   "id": "b36da758-d589-441e-9e4a-d46e0cb2ee47",
   "metadata": {},
   "outputs": [
    {
     "name": "stdout",
     "output_type": "stream",
     "text": [
      " ABANTIKA BISWAS \n"
     ]
    }
   ],
   "source": [
    "#ida ektu onnorokom try kortasi jmn age sab small letter lekhum to ida 1stly convert korum caps e,er pore replace korum.\n",
    "string=\" abantika bhowmik \"\n",
    "#string2=print(string.upper()) #ida disi pore hoina error\n",
    "string1=print(string.replace(\"bhowmik\",\"biswas\").upper())\n",
    "#but ami ektu change koira ida korsi mone hoise 3 da ek sathe dile hoia jaibo hoia o gese.\n",
    "string1"
   ]
  },
  {
   "cell_type": "code",
   "execution_count": 30,
   "id": "ec7bc05c-9fa8-4112-9a46-050369d3ca82",
   "metadata": {},
   "outputs": [
    {
     "name": "stdout",
     "output_type": "stream",
     "text": [
      "['ABANTIKA', 'BISWAS']\n"
     ]
    },
    {
     "data": {
      "text/plain": [
       "' ABANTIKA BISWAS '"
      ]
     },
     "execution_count": 30,
     "metadata": {},
     "output_type": "execute_result"
    }
   ],
   "source": [
    "#split(): Splits the string into a list of substrings based on a delimiter.\n",
    "string=\" ABANTIKA BISWAS \"\n",
    "print(string.split())\n",
    "string"
   ]
  },
  {
   "cell_type": "code",
   "execution_count": 31,
   "id": "f4518dfc-b3eb-47b1-b06b-9ccfcabcd10a",
   "metadata": {},
   "outputs": [
    {
     "data": {
      "text/plain": [
       "' My name is Abantika Bhowmik & my age is 21 years '"
      ]
     },
     "execution_count": 31,
     "metadata": {},
     "output_type": "execute_result"
    }
   ],
   "source": [
    "# Using % Operator:\n",
    "name = \"Abantika Bhowmik\"\n",
    "age = 21\n",
    "message = \" My name is %s & my age is %d years \" % (name,age)\n",
    "message"
   ]
  },
  {
   "cell_type": "code",
   "execution_count": 32,
   "id": "d3a52ed9-e531-4ff4-bcfb-df4439ab7a42",
   "metadata": {},
   "outputs": [
    {
     "name": "stdout",
     "output_type": "stream",
     "text": [
      "ABANTIKA BISWAS\n"
     ]
    },
    {
     "data": {
      "text/plain": [
       "' My name is None & my age is 21 years '"
      ]
     },
     "execution_count": 32,
     "metadata": {},
     "output_type": "execute_result"
    }
   ],
   "source": [
    "#ebr ektu onno rokom atrangi try kori jmn age string operation koira agertar moto\n",
    "#lower case thika upper case then title change then % operator use kori dekhi ki hoi.\n",
    "string=\"abantika bhowmik\"\n",
    "string1=print(string.replace(\"bhowmik\",\"biswas\").upper())\n",
    "string2= 21\n",
    "string3= \" My name is %s & my age is %d years \" % (string1,string2)\n",
    "string3\n",
    "#ei program e ja chaitasilam hoise na bar bar none aia pore nam er jaigai."
   ]
  },
  {
   "cell_type": "code",
   "execution_count": 33,
   "id": "9164799c-70e7-4093-8d4c-e1d110ed14bc",
   "metadata": {},
   "outputs": [
    {
     "data": {
      "text/plain": [
       "' My name is ABANTIKA BISWAS & my age is 21 years '"
      ]
     },
     "execution_count": 33,
     "metadata": {},
     "output_type": "execute_result"
    }
   ],
   "source": [
    "#eibar idare korar chesta chartasina dekhi ki kora jai.\n",
    "string=\"abantika bhowmik\"\n",
    "string1=(string.replace(\"bhowmik\",\"biswas\").upper())\n",
    "string2= 21\n",
    "string3= \" My name is %s & my age is %d years \" % (string1,string2)\n",
    "string3\n",
    "#at the end hoise maggoma."
   ]
  },
  {
   "cell_type": "code",
   "execution_count": 34,
   "id": "5dadc681-c882-44e2-965f-e6897a639b51",
   "metadata": {},
   "outputs": [
    {
     "data": {
      "text/plain": [
       "'My name is Abantika Bhowmik and I am 21 years old.'"
      ]
     },
     "execution_count": 34,
     "metadata": {},
     "output_type": "execute_result"
    }
   ],
   "source": [
    "#str.format() use koira kortasi\n",
    "name = \"Abantika Bhowmik\"\n",
    "age = 21\n",
    "string= \"My name is {} and I am {} years old.\".format(name, age) \n",
    "#idate mainly % use hoina idar jaigai {} ida r last e .format use hoi brackets er age\n",
    "string"
   ]
  },
  {
   "cell_type": "code",
   "execution_count": 35,
   "id": "959f8685-0cff-437c-ae69-575ed1d56052",
   "metadata": {},
   "outputs": [
    {
     "data": {
      "text/plain": [
       "'My name is Abantika Bhowmik and I am 21 years old.'"
      ]
     },
     "execution_count": 35,
     "metadata": {},
     "output_type": "execute_result"
    }
   ],
   "source": [
    "#Using Formatted String Literals (f-strings):\n",
    "name = \"Abantika Bhowmik\"\n",
    "age = 21\n",
    "string= f\"My name is {name} and I am {age} years old.\"\n",
    "#idate mainly khali {} use hoina idar jaigai 1st e oi 'f' lekha hoi abr line dar moddhey bracket er bhitore direct variables di use hoi.\n",
    "string"
   ]
  },
  {
   "cell_type": "code",
   "execution_count": 36,
   "id": "e3a40b89-7c82-436d-84a2-94905fedef66",
   "metadata": {},
   "outputs": [
    {
     "ename": "SyntaxError",
     "evalue": "invalid syntax (1854064873.py, line 1)",
     "output_type": "error",
     "traceback": [
      "\u001b[1;36m  Cell \u001b[1;32mIn[36], line 1\u001b[1;36m\u001b[0m\n\u001b[1;33m    1.  capitalize() Converts the first character to upper case\u001b[0m\n\u001b[1;37m        ^\u001b[0m\n\u001b[1;31mSyntaxError\u001b[0m\u001b[1;31m:\u001b[0m invalid syntax\n"
     ]
    }
   ],
   "source": [
    "1.  capitalize() Converts the first character to upper case\n",
    "2.  casefold() Converts string into lower case\n",
    "3.  center() Returns a centered string\n",
    "4.  count() Returns the number of times a specified value occurs in a string\n",
    "5.  encode() Returns an encoded version of the string\n",
    "6.  endswith() Returns true if the string ends with the specified value\n",
    "7.  expandtabs() Sets the tab size of the string\n",
    "8.  find() Searches the string for a specified value and returns the position of where itwas found\n",
    "9.  format() Formats specified values in a string\n",
    "10. format_map() Formats specified values in a string\n",
    "11. index() Searches the string for a specified value and returns the position of where itwas found\n",
    "12. isalnum() Returns True if all characters in the string are alphanumeric\n",
    "13. isalpha() Returns True if all characters in the string are in the alphabet\n",
    "14. isascii() Returns True if all characters in the string are ascii characters\n",
    "15. isdecimal() Returns True if all characters in the string are decimals\n",
    "16. isdigit() Returns True if all characters in the string are digits\n",
    "17. isidentifier() Returns True if the string is an identifier\n",
    "18. islower() Returns True if all characters in the string are lower case\n",
    "19. isnumeric() Returns True if all characters in the string are numeric\n",
    "20. isprintable() Returns True if all characters in the string are printable\n",
    "21. isspace() Returns True if all characters in the string are whitespaces\n",
    "22. istitle() Returns True if the string follows the rules of a title\n",
    "23. isupper() Returns True if all characters in the string are upper case\n",
    "24. join() Joins the elements of an iterable to the end of the string\n",
    "25. ljust() Returns a left justified version of the string\n",
    "26. lower() Converts a string into lower case\n",
    "27. lstrip() Returns a left trim version of the string\n",
    "28. maketrans() Returns a translation table to be used in translations\n",
    "29. partition() Returns a tuple where the string is parted into three parts\n",
    "30. replace() Returns a string where a specified value is replaced with a specified value\n",
    "31. rfind() Searches the string for a specified value and returns the last position of whereit was found\n",
    "32. rindex() Searches the string for a specified value and returns the last position ofwhere it was found\n",
    "33. rjust() Returns a right justified version of the string\n",
    "34. rpartition() Returns a tuple where the string is parted into three parts\n",
    "35. rsplit() Splits the string at the specified separator, and returns a list\n",
    "36. rstrip() Returns a right trim version of the string\n",
    "37. split() Splits the string at the specified separator, and returns a list\n",
    "38. splitlines() Splits the string at line breaks and returns a list\n",
    "39. startswith() Returns true if the string starts with the specified value\n",
    "40. strip() Returns a trimmed version of the string\n",
    "41. swapcase() Swaps cases, lower case becomes upper case and vice versa\n",
    "42. title() Converts the first character of each word to upper case\n",
    "43. translate() Returns a translated string\n",
    "44. upper() Converts a string into upper case\n",
    "45. zfill() Fills the string with a specified number of 0 values at the beginning"
   ]
  },
  {
   "cell_type": "code",
   "execution_count": 37,
   "id": "7c21ef8a-41a2-4946-b95d-e6d799abbeb1",
   "metadata": {},
   "outputs": [
    {
     "name": "stdout",
     "output_type": "stream",
     "text": [
      "Tanmoy biswas\n"
     ]
    }
   ],
   "source": [
    "# capitalize() #sudhu 1st letter ta caps kore.\n",
    "text = \"tanmoy biswas\"\n",
    "capitalized_text = text.capitalize()\n",
    "print(capitalized_text) "
   ]
  },
  {
   "cell_type": "code",
   "execution_count": 38,
   "id": "16973d12-d7c3-4c3f-86c6-569d69973c59",
   "metadata": {},
   "outputs": [
    {
     "name": "stdout",
     "output_type": "stream",
     "text": [
      "tanmoy biswas\n"
     ]
    }
   ],
   "source": [
    "# casefold() #sab letter re small letter koira de\n",
    "text = \"TANMOY BISWAS\"\n",
    "lowercased_text = text.casefold()\n",
    "print(lowercased_text)"
   ]
  },
  {
   "cell_type": "code",
   "execution_count": 39,
   "id": "213bb7e4-add6-4ea3-bfde-e18fbe3bbb8d",
   "metadata": {},
   "outputs": [
    {
     "name": "stdout",
     "output_type": "stream",
     "text": [
      "        TANMOY BISWAS         \n"
     ]
    }
   ],
   "source": [
    "# center() #ja lekhte disi ida jeto number input disi toto da space pore print hoibo.\n",
    "text = \"TANMOY BISWAS\"\n",
    "centered_text = text.center(30)\n",
    "print(centered_text)"
   ]
  },
  {
   "cell_type": "code",
   "execution_count": 40,
   "id": "390bc61c-a4e8-4846-9e56-afe8491abd98",
   "metadata": {},
   "outputs": [
    {
     "name": "stdout",
     "output_type": "stream",
     "text": [
      "1\n"
     ]
    }
   ],
   "source": [
    "# count() #je letter ba word ta khujte komu ida khuijja koibo koibar ase.\n",
    "text = \"I AM MR.TANMOY BISWAS\"\n",
    "count = text.count(\"AM\")\n",
    "print(count)"
   ]
  },
  {
   "cell_type": "code",
   "execution_count": 41,
   "id": "ab87c1a1-b129-49b5-b5b9-ef21261d19e6",
   "metadata": {},
   "outputs": [
    {
     "name": "stdout",
     "output_type": "stream",
     "text": [
      "b'Tanmoy'\n"
     ]
    }
   ],
   "source": [
    "# encode() #ida bujjhi na.\n",
    "text = \"Tanmoy\"\n",
    "encoded_text = text.encode()\n",
    "print(encoded_text)"
   ]
  },
  {
   "cell_type": "code",
   "execution_count": 42,
   "id": "743f87e0-db58-4b31-aff8-8c230c427ae4",
   "metadata": {},
   "outputs": [
    {
     "name": "stdout",
     "output_type": "stream",
     "text": [
      "True\n"
     ]
    }
   ],
   "source": [
    "# endswith() \n",
    "#sesh hoise je word dia ida ba je je letter dia jmne input disi idar emne last word da ase ni.ho hoile true na hoile false.\n",
    "text = \"Tanmoy Biswas\"\n",
    "ends_with_Biswas = text.endswith(\"Biswas\")\n",
    "print(ends_with_Biswas) "
   ]
  },
  {
   "cell_type": "code",
   "execution_count": 43,
   "id": "785fc000-82a6-4c10-8ac9-3c84115ccd17",
   "metadata": {},
   "outputs": [
    {
     "name": "stdout",
     "output_type": "stream",
     "text": [
      "ABANTIKA       BHOWMIK\n"
     ]
    }
   ],
   "source": [
    "# expandtabs() #jeto number input korum eto space barbo duida word er middle e.\n",
    "text = \"ABANTIKA\\tBHOWMIK\" # \"\\t\" use na korle kaj kortona. \n",
    "expanded_text = text.expandtabs(15)\n",
    "print(expanded_text)"
   ]
  },
  {
   "cell_type": "code",
   "execution_count": 44,
   "id": "e2e4e357-9187-42da-81ea-99a080d58944",
   "metadata": {},
   "outputs": [
    {
     "name": "stdout",
     "output_type": "stream",
     "text": [
      "7\n"
     ]
    }
   ],
   "source": [
    "# find() #jedare khujte komu ida koto number letter e ase ida bair korte hoibo.\n",
    "text = \"Biswas Abantika\" #including space count korte hoibo.\n",
    "position = text.find(\"Abantika\")\n",
    "print(position)"
   ]
  },
  {
   "cell_type": "code",
   "execution_count": 45,
   "id": "53c25110-85b7-4ee7-bebe-26a4e0e48475",
   "metadata": {},
   "outputs": [
    {
     "name": "stdout",
     "output_type": "stream",
     "text": [
      "My name is Tanmoy Biswas and I'm 21 years old\n"
     ]
    }
   ],
   "source": [
    "# format() #ektu age o str.format() use korsilam.\n",
    "name = \"Tanmoy Biswas\"\n",
    "age = 21\n",
    "formatted_text = \"My name is {} and I'm {} years old\".format(name, age)\n",
    "print(formatted_text)"
   ]
  },
  {
   "cell_type": "code",
   "execution_count": 46,
   "id": "46053592-cc44-45b3-8c55-850ef00296be",
   "metadata": {},
   "outputs": [
    {
     "name": "stdout",
     "output_type": "stream",
     "text": [
      "7\n"
     ]
    }
   ],
   "source": [
    "# index() #index() r find() er kam ek oi.\n",
    "text = \"Tanmoy Biswas\"\n",
    "position = text.index(\"Biswas\")\n",
    "print(position)"
   ]
  },
  {
   "cell_type": "code",
   "execution_count": 47,
   "id": "16a7466f-131d-4ede-985b-6255e5573841",
   "metadata": {},
   "outputs": [
    {
     "name": "stdout",
     "output_type": "stream",
     "text": [
      "True\n"
     ]
    }
   ],
   "source": [
    "# isalnum() # sudhu letter + number thakle alphanumeric koi.\n",
    "text = \"Kol123\"\n",
    "is_alphanumeric = text.isalnum()\n",
    "print(is_alphanumeric) "
   ]
  },
  {
   "cell_type": "code",
   "execution_count": 48,
   "id": "aac37deb-70aa-4e7e-b51a-3b72f61d1005",
   "metadata": {},
   "outputs": [
    {
     "name": "stdout",
     "output_type": "stream",
     "text": [
      "True\n"
     ]
    }
   ],
   "source": [
    "# isalpha() # sudhu letter thakle alpha\n",
    "text = \"abc\"\n",
    "is_alpha = text.isalpha()\n",
    "print(is_alpha)"
   ]
  },
  {
   "cell_type": "code",
   "execution_count": 49,
   "id": "809a5656-b105-46aa-ad9e-a12ed74bd50b",
   "metadata": {},
   "outputs": [
    {
     "name": "stdout",
     "output_type": "stream",
     "text": [
      "True\n"
     ]
    }
   ],
   "source": [
    "# isascii()\n",
    "text = \"AIDS\"\n",
    "is_ascii = text.isascii()\n",
    "print(is_ascii)"
   ]
  },
  {
   "cell_type": "code",
   "execution_count": 50,
   "id": "ce295e2a-4733-46bd-980b-af82eb2ef3de",
   "metadata": {},
   "outputs": [
    {
     "name": "stdout",
     "output_type": "stream",
     "text": [
      "True\n"
     ]
    }
   ],
   "source": [
    "# isdecimal() #interger value use korte lagbo point lagaia korle aito na\n",
    "text = \"12\" #point chara\n",
    "is_decimal = text.isdecimal()\n",
    "print(is_decimal) "
   ]
  },
  {
   "cell_type": "code",
   "execution_count": 51,
   "id": "197a99b9-b880-4791-ac90-57b396f2bf4e",
   "metadata": {},
   "outputs": [
    {
     "name": "stdout",
     "output_type": "stream",
     "text": [
      "False\n"
     ]
    }
   ],
   "source": [
    "# isdecimal() #point value use korle aitona.\n",
    "text = \"12.54\" #point soho\n",
    "is_decimal = text.isdecimal()\n",
    "print(is_decimal) "
   ]
  },
  {
   "cell_type": "code",
   "execution_count": 52,
   "id": "4f910a81-f214-4084-87cf-a89c5b0e7bf9",
   "metadata": {},
   "outputs": [
    {
     "name": "stdout",
     "output_type": "stream",
     "text": [
      "True\n"
     ]
    }
   ],
   "source": [
    "# isdigit() # input e sabdi digit hoite hoibo.\n",
    "text = \"936683\"\n",
    "is_digit = text.isdigit()\n",
    "print(is_digit)"
   ]
  },
  {
   "cell_type": "code",
   "execution_count": 53,
   "id": "61ae191f-6127-450a-9559-d99d6915ba1d",
   "metadata": {},
   "outputs": [
    {
     "name": "stdout",
     "output_type": "stream",
     "text": [
      "True\n"
     ]
    }
   ],
   "source": [
    "# isidentifier()\n",
    "text = \"Tanmoy_Abantika\"\n",
    "is_identifier = text.isidentifier()\n",
    "print(is_identifier)"
   ]
  },
  {
   "cell_type": "code",
   "execution_count": 54,
   "id": "e1ae407d-52c7-4350-92d0-91c17ef4e39a",
   "metadata": {},
   "outputs": [
    {
     "name": "stdout",
     "output_type": "stream",
     "text": [
      "True\n"
     ]
    }
   ],
   "source": [
    "# islower() #string er bhitre sabdi letter small letter e ni..\n",
    "text = \"tanmoy\"\n",
    "is_lower = text.islower()\n",
    "print(is_lower)"
   ]
  },
  {
   "cell_type": "code",
   "execution_count": 55,
   "id": "0ee66f78-c5d1-4c8e-ad7e-3a0a72bcd6fc",
   "metadata": {},
   "outputs": [
    {
     "name": "stdout",
     "output_type": "stream",
     "text": [
      "True\n"
     ]
    }
   ],
   "source": [
    "# isnumeric() #string er bhitre sab number ni.\n",
    "text = \"936683\"\n",
    "is_numeric = text.isnumeric()\n",
    "print(is_numeric)"
   ]
  },
  {
   "cell_type": "code",
   "execution_count": 56,
   "id": "4e96c0ee-de43-4798-ad4a-b81ec8629572",
   "metadata": {},
   "outputs": [
    {
     "name": "stdout",
     "output_type": "stream",
     "text": [
      "False\n"
     ]
    }
   ],
   "source": [
    "# isprintable() #\\n thakle print hoitona abr jodi ida soraia dei toile hoibo.\n",
    "text = \"Tanmoy \\n Abantika\"\n",
    "is_printable = text.isprintable()\n",
    "print(is_printable)"
   ]
  },
  {
   "cell_type": "code",
   "execution_count": 57,
   "id": "0e3844c1-655a-4bbe-9e4f-b8a42efe3df8",
   "metadata": {},
   "outputs": [
    {
     "name": "stdout",
     "output_type": "stream",
     "text": [
      "True\n"
     ]
    }
   ],
   "source": [
    "# isspace() #string e sab white space ase ki nai.\n",
    "text = \"        \"\n",
    "is_space = text.isspace()\n",
    "print(is_space)"
   ]
  },
  {
   "cell_type": "code",
   "execution_count": 58,
   "id": "879b7486-198c-4e32-8f84-866a2afaa94a",
   "metadata": {},
   "outputs": [
    {
     "name": "stdout",
     "output_type": "stream",
     "text": [
      "False\n"
     ]
    }
   ],
   "source": [
    "# istitle() #string da title houar rule da follow kortase ni.\n",
    "text = \"TANMOYABANTIKA\" #ektai word ase rule illiga follow korsena.\n",
    "is_title = text.istitle()\n",
    "print(is_title)"
   ]
  },
  {
   "cell_type": "code",
   "execution_count": 59,
   "id": "5e9ac87e-8347-41ed-9472-1de29e9d31ac",
   "metadata": {},
   "outputs": [
    {
     "name": "stdout",
     "output_type": "stream",
     "text": [
      "True\n"
     ]
    }
   ],
   "source": [
    "# isupper() #string er bhitre sab caps letter ni.\n",
    "text = \"TANMOY & ABANTIKA\"\n",
    "is_upper = text.isupper()\n",
    "print(is_upper)"
   ]
  },
  {
   "cell_type": "code",
   "execution_count": 60,
   "id": "82e95f0d-ac77-4e48-9073-1b94fdba9dbb",
   "metadata": {},
   "outputs": [
    {
     "name": "stdout",
     "output_type": "stream",
     "text": [
      "Hello World\n"
     ]
    }
   ],
   "source": [
    "# join() #2 da word alada ase \" \",\" \" emne. duioda add korlam.\n",
    "list_of_words = [\"Hello\", \"World\"]\n",
    "joined_text = \" \".join(list_of_words)\n",
    "print(joined_text)"
   ]
  },
  {
   "cell_type": "code",
   "execution_count": 61,
   "id": "34627cb8-006d-4724-a612-e681e0a0ee90",
   "metadata": {},
   "outputs": [
    {
     "name": "stdout",
     "output_type": "stream",
     "text": [
      "Tanmoy    \n"
     ]
    }
   ],
   "source": [
    "# ljust() #ida o bujjhi na.\n",
    "text = \"Tanmoy\"\n",
    "left_justified_text = text.ljust(10)\n",
    "print(left_justified_text)"
   ]
  },
  {
   "cell_type": "code",
   "execution_count": 62,
   "id": "d998eb11-ea46-425b-bb98-3e8280f05ba8",
   "metadata": {},
   "outputs": [
    {
     "name": "stdout",
     "output_type": "stream",
     "text": [
      "tanmoy\n"
     ]
    }
   ],
   "source": [
    "# lower() #sab character lowercase korar liga use kori.\n",
    "text = \"TANMOY\"\n",
    "lowercased_text = text.lower()\n",
    "print(lowercased_text)"
   ]
  },
  {
   "cell_type": "code",
   "execution_count": 63,
   "id": "677cbe42-17f6-4bcb-bc1b-556e67360489",
   "metadata": {},
   "outputs": [
    {
     "name": "stdout",
     "output_type": "stream",
     "text": [
      "Pagla          \n"
     ]
    }
   ],
   "source": [
    "# lstrip() # space sab kaitta dibo ager ti hok r porer ti.\n",
    "text = \"          Pagla          \" #10 ta koira duio dike space disi.\n",
    "left_stripped_text = text.lstrip()\n",
    "print(left_stripped_text)"
   ]
  },
  {
   "cell_type": "code",
   "execution_count": 64,
   "id": "8163015d-a543-4210-8ba9-9f4c464059c6",
   "metadata": {},
   "outputs": [
    {
     "name": "stdout",
     "output_type": "stream",
     "text": [
      "T8nm8y B5sw8s\n"
     ]
    }
   ],
   "source": [
    "# maketrans()\n",
    "#mane vowel dir bhitre jare jeto number dia rakhsi,\n",
    "#emn ami je input dimu idar bhitre jetodi vowel thakbo ida amr deoa number anujayi replaced hoia jaibo.\n",
    "table = str.maketrans(\"aeiou\", \"82589\")\n",
    "text = \"Tanmoy Biswas\"\n",
    "translated_text = text.translate(table)\n",
    "print(translated_text)"
   ]
  },
  {
   "cell_type": "code",
   "execution_count": 65,
   "id": "a6009a8d-8e44-435f-8aa2-e77ea078df85",
   "metadata": {},
   "outputs": [
    {
     "name": "stdout",
     "output_type": "stream",
     "text": [
      "('Tanmoy', ' ', 'Biswas')\n"
     ]
    }
   ],
   "source": [
    "# partition() #je kno word koyekta lekhle idare alada alda mane partition banai nijer thika.\n",
    "text = \"Tanmoy Biswas\"\n",
    "partitioned_text = text.partition(\" \")\n",
    "print(partitioned_text)"
   ]
  },
  {
   "cell_type": "code",
   "execution_count": 66,
   "id": "ca913822-3539-48bf-a094-4f8d4c4cde13",
   "metadata": {},
   "outputs": [
    {
     "name": "stdout",
     "output_type": "stream",
     "text": [
      "Abantika Biswas\n"
     ]
    }
   ],
   "source": [
    "# replace() #replace kore je word da ami replace korte chamu\n",
    "text = \"Tanmoy Biswas\"\n",
    "replaced_text = text.replace(\"Tanmoy\", \"Abantika\")\n",
    "print(replaced_text)"
   ]
  },
  {
   "cell_type": "code",
   "execution_count": 67,
   "id": "bfa993dc-5034-43e1-903b-a31ea522e72b",
   "metadata": {},
   "outputs": [
    {
     "name": "stdout",
     "output_type": "stream",
     "text": [
      "11\n"
     ]
    }
   ],
   "source": [
    "# rfind()\n",
    "#age khujbo ami je letter ta khujte komu ida last kon jaigai lekha ase.\n",
    "#erpore dekhbo je koto number e ase idar ager number ta print korbo.\n",
    "#for example Tanmoy Biswas er moddhey 'o' da 5 number letter kintu dekhaibo 4.\n",
    "text = \"Tanmoy Biswas\"\n",
    "last_position = text.rfind(\"a\")\n",
    "print(last_position)"
   ]
  },
  {
   "cell_type": "code",
   "execution_count": 68,
   "id": "06a2f791-f81d-4616-8310-e915b8f5bdf6",
   "metadata": {},
   "outputs": [
    {
     "name": "stdout",
     "output_type": "stream",
     "text": [
      "24\n"
     ]
    }
   ],
   "source": [
    "# rindex()\n",
    "#same kaj rfind() er moto\n",
    "#age khujbo ami je letter ta khujte komu ida last kon jaigai lekha ase.\n",
    "#erpore dekhbo je koto number e ase idar ager number ta print korbo.\n",
    "#for example Tanmoy Biswas er moddhey 'o' da 5 number letter kintu dekhaibo 4.\n",
    "text = \"tanmoy and abantika biswas\"\n",
    "last_position = text.rindex(\"a\")\n",
    "print(last_position)"
   ]
  },
  {
   "cell_type": "code",
   "execution_count": 69,
   "id": "c69a75b6-23ec-48a8-bcdd-2f4e291dd28f",
   "metadata": {},
   "outputs": [
    {
     "name": "stdout",
     "output_type": "stream",
     "text": [
      "  Abantika\n"
     ]
    }
   ],
   "source": [
    "# rjust()\n",
    "#space er motoi. jeto number input korum totota space hoia jaibo..\n",
    "text = \"Abantika\"\n",
    "right_justified_text = text.rjust(10)\n",
    "print(right_justified_text)"
   ]
  },
  {
   "cell_type": "code",
   "execution_count": 70,
   "id": "fad3acff-a76e-40f8-bdfc-9a1ae7dc3524",
   "metadata": {},
   "outputs": [
    {
     "name": "stdout",
     "output_type": "stream",
     "text": [
      "('Tanmoy', ' ', 'Biswas')\n"
     ]
    }
   ],
   "source": [
    "# rpartition() \n",
    "#same normal partition er motoi partition banaibo duida word re.\n",
    "text = \"Tanmoy Biswas\"\n",
    "rpartitioned_text = text.rpartition(\" \")\n",
    "print(rpartitioned_text)"
   ]
  },
  {
   "cell_type": "code",
   "execution_count": 71,
   "id": "f9443ddf-b5ad-4d88-a0b4-e0995309adc9",
   "metadata": {},
   "outputs": [
    {
     "name": "stdout",
     "output_type": "stream",
     "text": [
      "['Tanmoy', 'Biswas']\n"
     ]
    }
   ],
   "source": [
    "# rsplit() #duida word re sudhu split korbo ekta ',' use koira. kintu partition er moto na.\n",
    "text = \"Tanmoy Biswas\"\n",
    "split_text = text.rsplit(\" \")\n",
    "print(split_text)"
   ]
  },
  {
   "cell_type": "code",
   "execution_count": 72,
   "id": "083a0cb5-3f46-47fc-bb74-ac870b2350a7",
   "metadata": {},
   "outputs": [
    {
     "name": "stdout",
     "output_type": "stream",
     "text": [
      "    Tanmoy\n"
     ]
    }
   ],
   "source": [
    "# rstrip() #idat ami je word da lekhum idar bam dike jetoda white space dimu etoda print hoibo kintu dan dike jeto space oi deina kre print hoitona.\n",
    "text = \"    Tanmoy    \"\n",
    "right_stripped_text = text.rstrip()\n",
    "print(right_stripped_text)"
   ]
  },
  {
   "cell_type": "code",
   "execution_count": 73,
   "id": "a2ef9433-2d48-4a53-ae1e-6edf23650c85",
   "metadata": {},
   "outputs": [
    {
     "name": "stdout",
     "output_type": "stream",
     "text": [
      "['Tanmoy', 'Biswas']\n"
     ]
    }
   ],
   "source": [
    "# split() \n",
    "#duida word re sudhu split korbo ekta ',' use koira. kintu partition er moto na.\n",
    "# rsplit() r split() er kaj same.\n",
    "text = \"Tanmoy Biswas\"\n",
    "split_text = text.split(\" \")\n",
    "print(split_text)"
   ]
  },
  {
   "cell_type": "code",
   "execution_count": 74,
   "id": "af23dbcc-9d7b-4bd6-bd0c-c5577937610d",
   "metadata": {},
   "outputs": [
    {
     "name": "stdout",
     "output_type": "stream",
     "text": [
      "['Tanmoy', 'Biswas']\n"
     ]
    }
   ],
   "source": [
    "# splitlines() \n",
    "#duida word re sudhu split korbo ekta ',' use koira. kintu partition er moto na.\n",
    "#ekta line er bhitre je word thakbo sabdi split korbo mane alada korbo.\n",
    "text = \"Tanmoy\\nBiswas\"\n",
    "split_lines = text.splitlines()\n",
    "print(split_lines)"
   ]
  },
  {
   "cell_type": "code",
   "execution_count": 75,
   "id": "8cba645e-3449-4ab7-b0ad-52ba60726868",
   "metadata": {},
   "outputs": [
    {
     "name": "stdout",
     "output_type": "stream",
     "text": [
      "True\n"
     ]
    }
   ],
   "source": [
    "# startswith()\n",
    "#ekta program korsilam #endswith() dia ei 42 tar moddhey oi. ida asilo ekta sentence leikkha idar modhhey je kno word da lekha.\n",
    "#er pore check kortam je ida ki sentence er last word ki na.\n",
    "#ebr same sudhu last er jaigai first letter or word kina check kortam.\n",
    "text = \" I Am Tanmoy Biswas \"\n",
    "starts_with_hello = text.startswith(\" \") #eikhane whitespace hoise 1st letter. illiga true.\n",
    "print(starts_with_hello) "
   ]
  },
  {
   "cell_type": "code",
   "execution_count": 76,
   "id": "bd187233-bbba-4766-9551-ca7f8785b26f",
   "metadata": {},
   "outputs": [
    {
     "name": "stdout",
     "output_type": "stream",
     "text": [
      "Hello\n"
     ]
    }
   ],
   "source": [
    "# strip() #idat ami je word da lekhum idar bam dike jetoda white space dei ba dan dike jeto space oi deina kre knota oi print hoitona.\n",
    "text = \"       Hello       \"\n",
    "stripped_text = text.strip()\n",
    "print(stripped_text)"
   ]
  },
  {
   "cell_type": "code",
   "execution_count": 77,
   "id": "bc4732ce-49bd-49e4-a879-143ac4dde1d6",
   "metadata": {},
   "outputs": [
    {
     "name": "stdout",
     "output_type": "stream",
     "text": [
      "aBANTIKA bHOWMIK\n"
     ]
    }
   ],
   "source": [
    "# swapcase() #idar small letter hoia jai caps letter abr caps letter hoia jai small letter\n",
    "text = \"Abantika Bhowmik\"\n",
    "swapped_case_text = text.swapcase()\n",
    "print(swapped_case_text)"
   ]
  },
  {
   "cell_type": "code",
   "execution_count": 78,
   "id": "ab57d41b-60e6-44aa-a794-c2fdf3d36a8b",
   "metadata": {},
   "outputs": [
    {
     "name": "stdout",
     "output_type": "stream",
     "text": [
      "Tanmoy Biswas\n"
     ]
    }
   ],
   "source": [
    "# title() \n",
    "#er age istitle() use korsilam check korar liga ami je input ta disi ida title er rule follow kore ki na.jodi kore true na korle false.\n",
    "#ebr hoise follow korok na korok ida te kichu na ja print koraisi ida print hoiseni. jodi hoi toile title, r naile title na.\n",
    "text = \"tanmoy biswas\" #idar khetre ektu change ase small lettter dile prattekta word er 1st letter caps hoia jai.\n",
    "title_text = text.title()\n",
    "print(title_text)"
   ]
  },
  {
   "cell_type": "code",
   "execution_count": 79,
   "id": "7fd3efbf-d0f0-43c3-8351-210d7d974edd",
   "metadata": {},
   "outputs": [
    {
     "name": "stdout",
     "output_type": "stream",
     "text": [
      "Tinmoy Biswis\n"
     ]
    }
   ],
   "source": [
    "# translate() #exchange koira lai oi replace() er moto kintu condition hoise word replace hoitona** sudhu letter.\n",
    "text = \"Tanmoy Biswas\"\n",
    "translation_table = text.maketrans(\"a\", \"i\")\n",
    "translated_text = text.translate(translation_table)\n",
    "print(translated_text)"
   ]
  },
  {
   "cell_type": "code",
   "execution_count": 80,
   "id": "1a3f3b14-73df-4ddf-8192-925b855bf493",
   "metadata": {},
   "outputs": [
    {
     "name": "stdout",
     "output_type": "stream",
     "text": [
      "ABANTIKA BHOWMIK\n"
     ]
    }
   ],
   "source": [
    "# upper() #caps koira de ja ami input korum.\n",
    "text = \"abantika bhowmik\"\n",
    "uppercased_text = text.upper()\n",
    "print(uppercased_text)"
   ]
  },
  {
   "cell_type": "code",
   "execution_count": 81,
   "id": "0a0b2a6d-6835-4d2b-9ecb-aa8bcf45b2ae",
   "metadata": {},
   "outputs": [
    {
     "name": "stdout",
     "output_type": "stream",
     "text": [
      "0000TANMOY\n"
     ]
    }
   ],
   "source": [
    "# zfill() \n",
    "#idat mainly hoi ami je input dimu idar jetodi character(nam hok number hok symbol hok) use korum totoda count korbo.\n",
    "#er pore ami jeto number input korum etodi character print hoibo.\n",
    "#kintu #for example jodi amr deoar character 5 word er hoi kintu ami input dei 8 toile 5 ta character er samne 3 da 0 boibo.\n",
    "text = \"TANMOY\"\n",
    "zero_filled_text = text.zfill(10)\n",
    "print(zero_filled_text) "
   ]
  },
  {
   "cell_type": "markdown",
   "id": "0042ab3b-a3c7-4c03-b942-959cbad0ddbe",
   "metadata": {},
   "source": [
    "                                                                   Assignment - 1"
   ]
  },
  {
   "cell_type": "markdown",
   "id": "3100027f-b30b-4ca6-aafc-ac000a778cc7",
   "metadata": {},
   "source": [
    "1) Write a program that takes user input and converts it to uppercase using the upper()\n",
    "method. Print the uppercase version of the input"
   ]
  },
  {
   "cell_type": "code",
   "execution_count": 82,
   "id": "7b24ef12-cadd-4ea6-aea2-ef081a4f2137",
   "metadata": {},
   "outputs": [
    {
     "name": "stdout",
     "output_type": "stream",
     "text": [
      "Enter the name :  tanmoy\n"
     ]
    },
    {
     "data": {
      "text/plain": [
       "'TANMOY'"
      ]
     },
     "execution_count": 82,
     "metadata": {},
     "output_type": "execute_result"
    }
   ],
   "source": [
    "name = input(\"Enter the name : \")\n",
    "uppercase_version = (name.upper())\n",
    "uppercase_version"
   ]
  },
  {
   "cell_type": "markdown",
   "id": "076259b5-5094-4b49-adbd-9fcc46f4731b",
   "metadata": {},
   "source": [
    "2) Write a program that takes a sentence as input from the user and uses the split()\n",
    "method to count the number of words in the sentence. Print the word count."
   ]
  },
  {
   "cell_type": "code",
   "execution_count": 83,
   "id": "e5928a06-be3d-4665-9fb0-277f07276134",
   "metadata": {},
   "outputs": [
    {
     "name": "stdout",
     "output_type": "stream",
     "text": [
      "Enter the sentence :  my name is tanmoy biswas\n"
     ]
    },
    {
     "data": {
      "text/plain": [
       "['my', 'name', 'is', 'tanmoy', 'biswas']"
      ]
     },
     "execution_count": 83,
     "metadata": {},
     "output_type": "execute_result"
    }
   ],
   "source": [
    "sentence = input(\"Enter the sentence : \")\n",
    "#print(sentence.split())\n",
    "sentence1=(sentence.split())\n",
    "sentence1"
   ]
  },
  {
   "cell_type": "markdown",
   "id": "5c5c728c-c84f-4420-a90b-227927596597",
   "metadata": {},
   "source": [
    "3) Write a program that takes a sentence as input from the user and converts it to title\n",
    "case using the title() method. Print the title case version of the input."
   ]
  },
  {
   "cell_type": "code",
   "execution_count": null,
   "id": "e9e9b20f-4fd2-4660-99f4-40efa92829d8",
   "metadata": {},
   "outputs": [],
   "source": [
    "sentence = input(\"Enter the sentence : \")\n",
    "sentence1 = (sentence.title())\n",
    "sentence1"
   ]
  },
  {
   "cell_type": "markdown",
   "id": "e8fe44b4-2a11-42a4-9e07-9bec0c8cc953",
   "metadata": {},
   "source": [
    "4) Write a program that takes a string as input from the user and prints its reverse\n",
    "using the [::-1] slicing technique\n"
   ]
  },
  {
   "cell_type": "code",
   "execution_count": null,
   "id": "9aefb1c4-448c-473b-9978-2e086407217d",
   "metadata": {},
   "outputs": [],
   "source": [
    "string = input(\"Enter the string : \")\n",
    "substring = string[::-1]\n",
    "substring"
   ]
  },
  {
   "cell_type": "markdown",
   "id": "2dd99f8a-8b85-49b5-a6dc-1d73c37453f2",
   "metadata": {},
   "source": [
    "5) Write a program that takes a string as input from the user and counts the number of\n",
    "characters in the string using the len() function."
   ]
  },
  {
   "cell_type": "code",
   "execution_count": null,
   "id": "c518603e-e305-4b4e-837d-1b6566448602",
   "metadata": {},
   "outputs": [],
   "source": [
    "string = input(\"Enter the string : \")\n",
    "substring = (len(string)) #count jmne use kori kichu leikkha.count() emne. kintu idat len(idar bhitre lekhon lage)\n",
    "substring"
   ]
  },
  {
   "cell_type": "markdown",
   "id": "109e2d09-5743-42b4-81c1-858d2fa2be08",
   "metadata": {},
   "source": [
    "6) Write a program that takes a word as input from the user and checks whether it is a\n",
    "palindrome or not using the [::-1] slicing technique. Print \"Palindrome\" if the word is\n",
    "a palindrome; otherwise, print \"Not a palindrome\"."
   ]
  },
  {
   "cell_type": "code",
   "execution_count": null,
   "id": "826655ce-d5f8-45f3-bd25-de2ccb9575da",
   "metadata": {},
   "outputs": [],
   "source": [
    "string = input(\"Enter the word : \")\n",
    "if string == string[::-1]:\n",
    "  print(\"it's palindrome\")\n",
    "else:\n",
    "  print(\"it's not palindrome\")"
   ]
  },
  {
   "cell_type": "markdown",
   "id": "ed9c5974-bbe4-4a3f-9e18-544f44e911db",
   "metadata": {},
   "source": [
    "7) Write a program that takes a sentence as input from the user and reverses the order\n",
    "of the words in the sentence using the split() and [::-1] techniques. Print the reversed\n",
    "sentenc.\n"
   ]
  },
  {
   "cell_type": "code",
   "execution_count": null,
   "id": "a9b3dc13-d7ba-4cc6-95fc-82fee3f27f6a",
   "metadata": {},
   "outputs": [],
   "source": [
    "sentence = input(\"Enter the sentence : \")\n",
    "reversed_sentence = (sentence.split())\n",
    "reversed_sentence1 = reversed_sentence[::-1]\n",
    "reversed_sentence1"
   ]
  },
  {
   "cell_type": "markdown",
   "id": "486ff89c-8579-4123-80fa-d18bff1d97ab",
   "metadata": {},
   "source": [
    "8) Write a program that takes a string as input from the user and replaces a specific\n",
    "character in the string with another character using the replace() method. Print the\n",
    "modified string."
   ]
  },
  {
   "cell_type": "code",
   "execution_count": null,
   "id": "d73be1bb-3978-4818-9c92-8e3dbd2697d3",
   "metadata": {},
   "outputs": [],
   "source": [
    "string = input(\"Enter the string : \")\n",
    "modified_string = (string.replace(\"a\",\"i\"))\n",
    "modified_string"
   ]
  },
  {
   "cell_type": "markdown",
   "id": "28a6b91d-1d24-4859-9905-df8f21168b57",
   "metadata": {},
   "source": [
    "9) Write a program that takes a sentence as input from the user and capitalizes the first\n",
    "letter of each word using the capitalize() method. Print the capitalized sentence."
   ]
  },
  {
   "cell_type": "code",
   "execution_count": null,
   "id": "c65a26f6-dd62-4da6-9fef-0890251e7032",
   "metadata": {},
   "outputs": [],
   "source": [
    "sentence = input(\"Enter the sentence : \")\n",
    "#capitalized_sentence = sentence.title()\n",
    "capitalized_sentence1= sentence.capitalize()\n",
    "capitalized_sentence1"
   ]
  },
  {
   "cell_type": "markdown",
   "id": "74e68136-72d0-4764-85a1-0f32b8002374",
   "metadata": {},
   "source": [
    "10) Write a program that calculates the area and perimeter of a rectangle. The program\n",
    "should take user input for the length and width of the rectangle, and then display\n",
    "the calculated area and perimeter."
   ]
  },
  {
   "cell_type": "code",
   "execution_count": null,
   "id": "8dce4f59-fee2-41b5-8f38-d77d8fb3757d",
   "metadata": {},
   "outputs": [],
   "source": [
    "length = int(input(\"Enter the length of rectangle : \"))\n",
    "width = int(input(\"Enter the width of rectangle : \"))\n",
    "area_of_rectangle = length*width\n",
    "perimeter_of_rectangle = 2*(length+width)\n",
    "print(\"Area of the rectangle is : \",area_of_rectangle)\n",
    "print(\"Perimeter of the rectangle is : \",perimeter_of_rectangle)"
   ]
  }
 ],
 "metadata": {
  "kernelspec": {
   "display_name": "Python 3 (ipykernel)",
   "language": "python",
   "name": "python3"
  },
  "language_info": {
   "codemirror_mode": {
    "name": "ipython",
    "version": 3
   },
   "file_extension": ".py",
   "mimetype": "text/x-python",
   "name": "python",
   "nbconvert_exporter": "python",
   "pygments_lexer": "ipython3",
   "version": "3.11.4"
  }
 },
 "nbformat": 4,
 "nbformat_minor": 5
}
