{
 "cells": [
  {
   "cell_type": "code",
   "execution_count": 15,
   "id": "957ae13d-d4f5-471b-9119-55e2f73df478",
   "metadata": {},
   "outputs": [
    {
     "name": "stdin",
     "output_type": "stream",
     "text": [
      "Enter any number :  56\n",
      "Enter another number :  64\n"
     ]
    },
    {
     "name": "stdout",
     "output_type": "stream",
     "text": [
      " Number2 Is Greater Than Number1 \n"
     ]
    }
   ],
   "source": [
    "number1 = int(input(\"Enter any number : \"))\n",
    "number2 = int(input(\"Enter another number : \"))\n",
    "if number2>number1:\n",
    "  print(\" Number2 Is Greater Than Number1 \")\n",
    "elif number1==number2:\n",
    "  print(\" Number1 Is Equals To Number2 \")\n",
    "else:\n",
    "  print(\" Number1 Is Greater Than Number2 \")"
   ]
  },
  {
   "cell_type": "code",
   "execution_count": 1,
   "id": "28f18153-d4b6-4039-9f52-96add09df9d0",
   "metadata": {},
   "outputs": [
    {
     "name": "stdout",
     "output_type": "stream",
     "text": [
      "suru hoise :  5\n",
      "suru hoise :  6\n",
      "suru hoise :  7\n",
      "suru hoise :  8\n",
      "suru hoise :  9\n",
      "suru hoise :  10\n",
      "suru hoise :  11\n",
      "Hoia gese tor kam\n"
     ]
    }
   ],
   "source": [
    "Suru = 5 #kotor thika suru korum ida age lekhte hoibo.\n",
    "while True: #ida must lekhte hoibo jehetu while loop.\n",
    "    print(\"suru hoise : \",Suru) #jeda print koramu ami idare dekhaite hoibo.\n",
    "    Suru = Suru+1 #ekbar to prothom je sonkha da dimu dilam.kintu er pore koto koira barte thakbo na ki komte thakbo ida dekhaite lagbo.\n",
    "    if Suru>=12:# kuddur obdi print koramu.\n",
    "     break\n",
    "print(\"Hoia gese tor kam\") #the end"
   ]
  },
  {
   "cell_type": "code",
   "execution_count": 3,
   "id": "de4b6c89-ef8d-4a71-bdd4-02fa80464b4b",
   "metadata": {},
   "outputs": [
    {
     "name": "stdout",
     "output_type": "stream",
     "text": [
      "11\n",
      "12\n",
      "13\n",
      "14\n",
      "15\n",
      "16\n",
      "17\n",
      "18\n",
      "19\n"
     ]
    }
   ],
   "source": [
    "#using of for loop in python.\n",
    "for number in range(11,20): #1st amr je integer ta lekhum ida print hoibo,kintu last jeda dimu idar ager number obdi jaibo.print hoibo.\n",
    " print(number)"
   ]
  },
  {
   "cell_type": "markdown",
   "id": "5d055ce0-07e2-4227-bbe7-4a1344bf1e74",
   "metadata": {},
   "source": [
    "Brake Statement"
   ]
  },
  {
   "cell_type": "code",
   "execution_count": 23,
   "id": "3406e5a6-5fb0-4352-ba38-d8e3a6d20bd8",
   "metadata": {},
   "outputs": [
    {
     "name": "stdout",
     "output_type": "stream",
     "text": [
      "orange\n",
      "apple\n",
      "banana\n",
      "mango\n",
      "loop ended\n"
     ]
    }
   ],
   "source": [
    "fruits=[\"orange\",\"apple\",\"banana\",\"mango\",\"jackfruit\",\"coconut\"] \n",
    "#ab er jaigai ba fruits er jaigai je kno nam deoa jaibo.\n",
    "#je kno loop jmn for loop or while loop e break use korle bujha jai je kototuku obdi print korte lagbo.\n",
    "for ab in fruits:\n",
    "    if ab== \"jackfruit\":\n",
    "       break\n",
    "    print(ab)\n",
    "print(\"loop ended\")"
   ]
  },
  {
   "cell_type": "markdown",
   "id": "043131f1-e2a3-4584-8c5d-285192ff5fa3",
   "metadata": {},
   "source": [
    "python list"
   ]
  },
  {
   "cell_type": "code",
   "execution_count": 24,
   "id": "8692ab86-0b96-4dec-a9d8-9cf745058e0b",
   "metadata": {},
   "outputs": [
    {
     "name": "stdout",
     "output_type": "stream",
     "text": [
      "<class 'list'>\n"
     ]
    }
   ],
   "source": [
    "fruits=[\"orange\",\"apple\",\"banana\",8,7.9,\"coconut\"] #list er moddhey int,float,je kno nam ja iccha lekha jai.\n",
    "print(type(fruits))"
   ]
  },
  {
   "cell_type": "code",
   "execution_count": 11,
   "id": "e20a55a1-c606-459f-bf7f-f44b783c2a75",
   "metadata": {},
   "outputs": [
    {
     "name": "stdout",
     "output_type": "stream",
     "text": [
      "<class 'float'>\n"
     ]
    }
   ],
   "source": [
    "print(type(fruits[4]))"
   ]
  },
  {
   "cell_type": "markdown",
   "id": "279794cc-aedd-44e3-a214-0c7cfbbc64b5",
   "metadata": {},
   "source": [
    "Negative Indexing"
   ]
  },
  {
   "cell_type": "code",
   "execution_count": 25,
   "id": "fa758fbc-03ee-4d6f-9969-31be0b9ff008",
   "metadata": {},
   "outputs": [
    {
     "data": {
      "text/plain": [
       "'apple'"
      ]
     },
     "execution_count": 25,
     "metadata": {},
     "output_type": "execute_result"
    }
   ],
   "source": [
    "fruits=[\"orange\",\"apple\",\"banana\",8,7.9,\"coconut\"] \n",
    "#normali counting 0 thika suru hoi.\n",
    "#kintu negetive indexing er khetre last er dik thika 1 thika count suru hoi\n",
    "fruits[1]"
   ]
  },
  {
   "cell_type": "code",
   "execution_count": 18,
   "id": "4daefe53-3a6c-4f87-acc3-fabcc32b3e58",
   "metadata": {},
   "outputs": [
    {
     "data": {
      "text/plain": [
       "'coconut'"
      ]
     },
     "execution_count": 18,
     "metadata": {},
     "output_type": "execute_result"
    }
   ],
   "source": [
    "fruits[-1]"
   ]
  },
  {
   "cell_type": "markdown",
   "id": "6131f9a5-387b-4a52-9bbc-88a9049f7cc5",
   "metadata": {},
   "source": [
    "Range of Indexes"
   ]
  },
  {
   "cell_type": "code",
   "execution_count": 26,
   "id": "83a2b325-e4e3-4c30-9801-ec60cf2b22c1",
   "metadata": {},
   "outputs": [
    {
     "data": {
      "text/plain": [
       "['banana', 8, 7.9]"
      ]
     },
     "execution_count": 26,
     "metadata": {},
     "output_type": "execute_result"
    }
   ],
   "source": [
    "fruits=[\"orange\",\"apple\",\"banana\",8,7.9,\"coconut\"] \n",
    "#[something:something dile ratio er 1st position thika ratio er last position er ag obdi print hoibo.\n",
    "fruits[2:5]"
   ]
  },
  {
   "cell_type": "code",
   "execution_count": 27,
   "id": "0f546000-0004-4114-b710-2b738202307f",
   "metadata": {},
   "outputs": [
    {
     "data": {
      "text/plain": [
       "'a'"
      ]
     },
     "execution_count": 27,
     "metadata": {},
     "output_type": "execute_result"
    }
   ],
   "source": [
    "fruits[2][3] \n",
    "#r jodi bracket er bhitore ratio er jaigai alada alada position dekhani hoi toile 1st je number ta thakbo,\n",
    "#oi number er position e je thakbo oidar bhitorer letter ta dekhbo.\n",
    "#r bracket er 2nd position er number ta oi 1st position er word dar letter re count korbo.\n",
    "#jmn ei list e 2(1st position) hoilo banana. to porer position mane 3 hoise 'a'.bcz banana te 3 no. position 'a' er"
   ]
  },
  {
   "cell_type": "markdown",
   "id": "ba266d1b-b56c-4c96-aa86-d0c81f5d5a4d",
   "metadata": {},
   "source": [
    "Change Item Value"
   ]
  },
  {
   "cell_type": "code",
   "execution_count": 36,
   "id": "3e276ac4-545d-41dd-9cc4-3b8178ecc51c",
   "metadata": {},
   "outputs": [
    {
     "name": "stdout",
     "output_type": "stream",
     "text": [
      "['orange', 'apple', 'banana', 8, 7.9, 'coconut']\n",
      "['orange', 'mango', 'banana', 8, 7.9, 'coconut']\n"
     ]
    }
   ],
   "source": [
    "fruits=[\"orange\",\"apple\",\"banana\",8,7.9,\"coconut\"] #list e je kno jaigai value nam ja iccha change kora jai.\n",
    "print(fruits)\n",
    "fruits[1]=\"mango\"\n",
    "print(fruits)"
   ]
  },
  {
   "cell_type": "markdown",
   "id": "74c6bfc1-f97a-4173-adf0-0514497e6ace",
   "metadata": {},
   "source": [
    "Change a Range of Item Values"
   ]
  },
  {
   "cell_type": "code",
   "execution_count": 42,
   "id": "55dfc62f-6e99-4845-af89-ca5f73a20722",
   "metadata": {},
   "outputs": [
    {
     "name": "stdout",
     "output_type": "stream",
     "text": [
      "['orange', 'apple', 'banana', 8, 7.9, 'coconut']\n",
      "['orange', 'mango', 'pear', 'watermelon', 7.9, 'coconut']\n"
     ]
    }
   ],
   "source": [
    "fruits = [\"orange\",\"apple\",\"banana\",8,7.9,\"coconut\"] \n",
    "#idat je position ja change korte chamu ida range e ratio hisabe dite lagbo r ki ki change hoibo ki replace hoibo ida koia dite lagbo..\n",
    "print(fruits)\n",
    "fruits[1:4] = [\"mango\", \"pear\", \"watermelon\"]\n",
    "print(fruits)"
   ]
  },
  {
   "cell_type": "markdown",
   "id": "75200919-c42d-4d9c-bcc8-c5320eb69b63",
   "metadata": {},
   "source": [
    "Insert Items"
   ]
  },
  {
   "cell_type": "code",
   "execution_count": 53,
   "id": "7bb7136c-5b22-48af-ae1c-cf99795dc7d5",
   "metadata": {},
   "outputs": [
    {
     "name": "stdout",
     "output_type": "stream",
     "text": [
      "['mango', 'pear', 'watermelon']\n",
      "['mango', 'pear', 'apple', 'watermelon']\n"
     ]
    }
   ],
   "source": [
    "fruits = [\"mango\", \"pear\", \"watermelon\"]\n",
    "#je position e ami add korte chai oi position e ikichu insert korte parum ami ei process e.\n",
    "print(fruits)\n",
    "fruits.insert(2,\"apple\")\n",
    "print(fruits)"
   ]
  },
  {
   "cell_type": "code",
   "execution_count": 55,
   "id": "feb4bffc-240c-4d8b-b70e-a00cd4e93b30",
   "metadata": {},
   "outputs": [
    {
     "name": "stdout",
     "output_type": "stream",
     "text": [
      "['mango', 'pear', 'watermelon']\n",
      "['mango', 'pear', 'watermelon', 'apple']\n"
     ]
    }
   ],
   "source": [
    "fruits = [\"mango\", \"pear\", \"watermelon\"]\n",
    "#insert e amra je kno position e add korte pari,#kintu append e last position e add hoibo.\n",
    "print(fruits)\n",
    "fruits.append(\"apple\")\n",
    "print(fruits)"
   ]
  },
  {
   "cell_type": "markdown",
   "id": "a2663ce8-569e-447a-a575-d1691043dd68",
   "metadata": {},
   "source": [
    "Extend() Method"
   ]
  },
  {
   "cell_type": "code",
   "execution_count": 57,
   "id": "ab5f659d-44f8-41d5-be01-6e8c2c47f8e6",
   "metadata": {},
   "outputs": [
    {
     "name": "stdout",
     "output_type": "stream",
     "text": [
      "['mango', 'pear', 'watermelon']\n",
      "['mango', 'pear', 'watermelon', 'apple', 'Lychee']\n"
     ]
    }
   ],
   "source": [
    "fruits = [\"mango\", \"pear\", \"watermelon\"]\n",
    "print(fruits)\n",
    "fruits.extend([\"apple\",\"Lychee\"])\n",
    "print(fruits)"
   ]
  },
  {
   "cell_type": "markdown",
   "id": "70d0de45-d294-45c5-a968-fccaf05d3c03",
   "metadata": {},
   "source": [
    "+ operator"
   ]
  },
  {
   "cell_type": "code",
   "execution_count": 60,
   "id": "7475077f-b8ec-4617-8bab-6c5ec958abc5",
   "metadata": {},
   "outputs": [
    {
     "name": "stdout",
     "output_type": "stream",
     "text": [
      "['mango', 'pear', 'watermelon']\n",
      "['mango', 'pear', 'watermelon', 'apple', 'Lychee']\n"
     ]
    }
   ],
   "source": [
    "fruits = [\"mango\", \"pear\", \"watermelon\"]\n",
    "print(fruits)\n",
    "new_fruits = fruits + [\"apple\",\"Lychee\"]\n",
    "print(new_fruits)"
   ]
  },
  {
   "cell_type": "markdown",
   "id": "c05cf588-d585-4278-a296-6ef71365643a",
   "metadata": {},
   "source": [
    "Remove List Items\n",
    "#1. Using the remove() method:"
   ]
  },
  {
   "cell_type": "code",
   "execution_count": 63,
   "id": "1e24d282-c54b-40e7-8882-d1e0c4bed734",
   "metadata": {},
   "outputs": [
    {
     "name": "stdout",
     "output_type": "stream",
     "text": [
      "['orange', 'apple', 'banana', 8, 7.9, 'coconut']\n",
      "['orange', 'apple', 'banana', 8, 'coconut']\n"
     ]
    }
   ],
   "source": [
    "fruits=[\"orange\",\"apple\",\"banana\",8,7.9,\"coconut\"] #list e je kno element bad deoa jaibo.\n",
    "print(fruits)\n",
    "fruits.remove(7.9)\n",
    "print(fruits)"
   ]
  },
  {
   "cell_type": "markdown",
   "id": "bbd0e15f-3dd2-4324-b950-c77f388c9d07",
   "metadata": {},
   "source": [
    "Remove List Items\n",
    "#2. Using the pop() method:"
   ]
  },
  {
   "cell_type": "code",
   "execution_count": 66,
   "id": "85b1af81-5964-43aa-ba90-873392cd2950",
   "metadata": {},
   "outputs": [
    {
     "name": "stdout",
     "output_type": "stream",
     "text": [
      "['orange', 'apple', 'banana', 8, 7.9, 'coconut']\n",
      "['orange', 'apple', 'banana', 8, 7.9]\n"
     ]
    }
   ],
   "source": [
    "fruits=[\"orange\",\"apple\",\"banana\",8,7.9,\"coconut\"] #list er last element bad dia laibo automatically.\n",
    "print(fruits)\n",
    "fruits.pop()\n",
    "print(fruits)"
   ]
  },
  {
   "cell_type": "markdown",
   "id": "02aed013-89c1-4dc0-ad73-e273bbb5fce9",
   "metadata": {},
   "source": [
    "Remove List Items\n",
    "#3. Using the del statement:"
   ]
  },
  {
   "cell_type": "code",
   "execution_count": 69,
   "id": "85a07ca3-fe0c-44ed-8481-52a0ad58ec8a",
   "metadata": {},
   "outputs": [
    {
     "name": "stdout",
     "output_type": "stream",
     "text": [
      "['orange', 'apple', 'banana', 8, 7.9, 'coconut']\n",
      "['orange', 'apple', 8, 7.9, 'coconut']\n"
     ]
    }
   ],
   "source": [
    "fruits=[\"orange\",\"apple\",\"banana\",8,7.9,\"coconut\"] #list er specific ami choose jeda korum ei element bad dia laibo.\n",
    "print(fruits)\n",
    "del fruits[2] #integer input dile number wise 0 thika count koira jeda soraner soraia laibo.\n",
    "print(fruits)"
   ]
  },
  {
   "cell_type": "markdown",
   "id": "f8f0a77d-2c34-4e19-bc76-5bb3be23ab66",
   "metadata": {},
   "source": [
    "Clear the List\n",
    "#1. Using the clear() method:"
   ]
  },
  {
   "cell_type": "code",
   "execution_count": 71,
   "id": "3414cc6f-c1e6-470b-b4e9-35434187ed82",
   "metadata": {},
   "outputs": [
    {
     "name": "stdout",
     "output_type": "stream",
     "text": [
      "['orange', 'apple', 'banana', 8, 7.9, 'coconut']\n",
      "[]\n"
     ]
    }
   ],
   "source": [
    "fruits=[\"orange\",\"apple\",\"banana\",8,7.9,\"coconut\"] #list er sab element muiccha laibo.\n",
    "print(fruits)\n",
    "fruits.clear()\n",
    "print(fruits) "
   ]
  },
  {
   "cell_type": "markdown",
   "id": "6bea0038-37ae-4546-bb4b-3a00d86300da",
   "metadata": {},
   "source": [
    "Clear the List\n",
    "#2. Assigning an empty list []: "
   ]
  },
  {
   "cell_type": "code",
   "execution_count": 73,
   "id": "997d23d2-6562-4a0c-b7f2-88d868d48025",
   "metadata": {},
   "outputs": [
    {
     "name": "stdout",
     "output_type": "stream",
     "text": [
      "['orange', 'apple', 'banana', 8, 7.9, 'coconut']\n",
      "[]\n"
     ]
    }
   ],
   "source": [
    "fruits=[\"orange\",\"apple\",\"banana\",8,7.9,\"coconut\"] #list er sab element muiccha laibo #kintu blank 3rd bracket use korte lagbo.\n",
    "print(fruits)\n",
    "fruits= [ ]\n",
    "print(fruits) "
   ]
  },
  {
   "cell_type": "markdown",
   "id": "280aeb49-5575-4013-ba54-9841d78e7726",
   "metadata": {},
   "source": [
    "List Accessing through Loop\n",
    "#1. Loop Through a List:"
   ]
  },
  {
   "cell_type": "code",
   "execution_count": 81,
   "id": "9404a348-b30e-4845-9952-e8d21b4f6fa7",
   "metadata": {},
   "outputs": [
    {
     "name": "stdout",
     "output_type": "stream",
     "text": [
      "orange\n",
      "apple\n",
      "banana\n",
      "coconut\n"
     ]
    }
   ],
   "source": [
    "fruits=[\"orange\",\"apple\",\"banana\",\"coconut\"]\n",
    "for fruit in fruits: #for loop use korle list e convert hoia jaibo\n",
    " print(fruit)"
   ]
  },
  {
   "cell_type": "markdown",
   "id": "077cef28-3bb5-44b0-8d6b-1b26e3ba479d",
   "metadata": {},
   "source": [
    "List Accessing through Loop\n",
    "#2. Loop Through the Index Numbers:\n",
    " you want to loop through the index numbers of\r",
    " \n",
    "a list in Python, you can use the enumerate() function or the range() function along with \r\n",
    "the length of the lis.\r"
   ]
  },
  {
   "cell_type": "code",
   "execution_count": 89,
   "id": "3e0acd42-e3f1-49e8-bfe4-9354072d4564",
   "metadata": {},
   "outputs": [
    {
     "name": "stdout",
     "output_type": "stream",
     "text": [
      "['orange', 'apple', 'banana', 8, 7.9, 'coconut']\n",
      "Index: 0 Fruit: orange\n",
      "Index: 1 Fruit: apple\n",
      "Index: 2 Fruit: banana\n",
      "Index: 3 Fruit: 8\n",
      "Index: 4 Fruit: 7.9\n",
      "Index: 5 Fruit: coconut\n"
     ]
    }
   ],
   "source": [
    "#enumerate() use koira\n",
    "fruits=[\"orange\",\"apple\",\"banana\",8,7.9,\"coconut\"] #sajaner liga index wise je 1 no keda 2 no keda ida janar liga.\n",
    "print(fruits)\n",
    "for index, fruit in enumerate(fruits):\n",
    " print(\"Index:\", index, \"Fruit:\", fruit)"
   ]
  },
  {
   "cell_type": "code",
   "execution_count": 22,
   "id": "48548c7e-0a9a-4b6a-b797-54a2ed65ca96",
   "metadata": {},
   "outputs": [
    {
     "name": "stdout",
     "output_type": "stream",
     "text": [
      "Index: 0 Fruit: orange\n",
      "Index: 1 Fruit: apple\n",
      "Index: 2 Fruit: banana\n",
      "Index: 3 Fruit: coconut\n"
     ]
    }
   ],
   "source": [
    "#range() use koira\n",
    "fruits=[\"orange\",\"apple\",\"banana\",\"coconut\"] #sajaner liga index wise je 1 no keda 2 no keda ida janar liga.\n",
    "for index in range(0,4):\n",
    " print(\"Index:\", index, \"Fruit:\", fruits[index])"
   ]
  },
  {
   "cell_type": "markdown",
   "id": "8daf77a3-4f91-4d2b-9ced-57abbeadb04d",
   "metadata": {},
   "source": [
    "List Comprehension"
   ]
  },
  {
   "cell_type": "code",
   "execution_count": 26,
   "id": "ea07d7af-2f77-417a-b92f-5a577cc560c2",
   "metadata": {},
   "outputs": [
    {
     "name": "stdout",
     "output_type": "stream",
     "text": [
      "['orange', 'apple', 'banana', 'coconut']\n",
      "['orange', 'apple', 'banana']\n"
     ]
    }
   ],
   "source": [
    "fruits=[\"orange\",\"apple\",\"banana\",\"coconut\"]\n",
    "print(fruits)\n",
    "newlist = []\n",
    "for x in fruits:\n",
    " if \"a\" in x:\n",
    "  newlist.append(x)\n",
    "print(newlist)"
   ]
  },
  {
   "cell_type": "code",
   "execution_count": null,
   "id": "f5e4c5b8-9003-449f-b0ed-86cf5338c712",
   "metadata": {},
   "outputs": [],
   "source": []
  }
 ],
 "metadata": {
  "kernelspec": {
   "display_name": "Python 3 (ipykernel)",
   "language": "python",
   "name": "python3"
  },
  "language_info": {
   "codemirror_mode": {
    "name": "ipython",
    "version": 3
   },
   "file_extension": ".py",
   "mimetype": "text/x-python",
   "name": "python",
   "nbconvert_exporter": "python",
   "pygments_lexer": "ipython3",
   "version": "3.11.4"
  }
 },
 "nbformat": 4,
 "nbformat_minor": 5
}
